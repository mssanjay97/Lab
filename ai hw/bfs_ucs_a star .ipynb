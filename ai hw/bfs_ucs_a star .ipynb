{
 "cells": [
  {
   "cell_type": "code",
   "execution_count": 1,
   "metadata": {},
   "outputs": [
    {
     "data": {
      "text/plain": [
       "'\\nBFS\\n2 2\\n0 0\\n5\\n1\\n1 1\\n0 10\\n10 20\\n'"
      ]
     },
     "execution_count": 1,
     "metadata": {},
     "output_type": "execute_result"
    }
   ],
   "source": [
    "\"\"\"\n",
    "BFS\n",
    "2 2\n",
    "0 0\n",
    "5\n",
    "1\n",
    "1 1\n",
    "0 10\n",
    "10 20\n",
    "\n",
    "\"\"\""
   ]
  },
  {
   "cell_type": "code",
   "execution_count": 1,
   "metadata": {},
   "outputs": [],
   "source": [
    "\"\"\"\n",
    "w=2\n",
    "h=2\n",
    "x=0\n",
    "y=0\n",
    "d=5\n",
    "n=1\n",
    "pos=[[1,1]]\n",
    "m=[[0,10],[10,20]]\n",
    "#m=[[0,0,0,0,0,0,0,0],[0,60,64,57,45,66,68,0],[0,63,64,57,45,67,68,0],[0,58,64,57,45,68,67,0],[0,60,61,67,65,66,69,0],[0,0,0,0,0,0,0,0]]\n",
    "\n",
    "w=5\n",
    "h=7\n",
    "x=3\n",
    "y=4\n",
    "d=32\n",
    "n=3\n",
    "pos=[[2,2],[4,6],[0,5]]\n",
    "m=[[12,43,31,54,21],[54,32,76,87,43],[76,32,65,87,33],[76,43,21,65,32],[87,32,21,43,43],[32,75,32,5,76],[54,22,457,54,87]]\n",
    "\n",
    "\n",
    "w=9\n",
    "h=9\n",
    "x=7\n",
    "y=3\n",
    "d=20\n",
    "n=5\n",
    "pos=[[0,6],[3,4],[8,4],[2,8],[6,6]]\n",
    "m=[\n",
    "    [54,87,43,32,65,42,76,43,83],[29,53,76,64,23,75,32,75,42],[23,76,23,88,44,24,123,654,32],[325,564,42,65,87,32,1,42,53],\n",
    "    [65,32,76,32,65,32,765,33,34],[87,43,32,54,87,54,21,76,43],[87,54,32,6,587,43,23,76,2],[23,6,86,4,4,2,54,32,76],\n",
    "    [23,65,87,43,46,5,768,53,32]\n",
    "  ]\n",
    "\n",
    "\n",
    "w=8\n",
    "h=6\n",
    "x=4\n",
    "y=4\n",
    "d=7\n",
    "n=2\n",
    "pos=[[1,1],[6,3]]\n",
    "m=[[0,0,0,0,0,0,0,0],[0,60,64,57,45,66,68,0],[0,63,64,57,45,67,68,0],[0,58,64,57,45,68,67,0],[0,60,61,67,65,66,69,0],[0,0,0,0,0,0,0,0]]\n",
    "\n",
    "\n",
    "\n",
    "w=5\n",
    "h=4\n",
    "x=1\n",
    "y=0\n",
    "d=5\n",
    "n=1\n",
    "pos=[[4,3]]\n",
    "m=[[1,2,1,-2,0],[1,1,1,2,9],[9,-1,1,-1,11],[1,2,1,1,-1]]\n",
    "\n",
    "\"\"\"\n",
    "\n",
    "w=7\n",
    "h=5\n",
    "x=4\n",
    "y=3\n",
    "d=3\n",
    "n=1\n",
    "pos=[[4,3]]\n",
    "m=[[2,3,2,1,3,4,5],[3,7,5,9,1,8,2],[0,0,3,5,1,0,6],[1,2,0,6,3,9,0],[7,2,5,3,6,3,4]]"
   ]
  },
  {
   "cell_type": "code",
   "execution_count": 2,
   "metadata": {},
   "outputs": [],
   "source": [
    "def adj(cur):\n",
    "    nei=[]\n",
    "    for i in range(cur[0]-1,cur[0]+2):\n",
    "        for j in range(cur[1]-1,cur[1]+2):\n",
    "            #print(i,j,m[j][i],m[cur[0]][cur[1]])\n",
    "            if(i<0 or j<0 or i>=w or j>=h or (i==cur[0] and j==cur[1]) ):\n",
    "                continue\n",
    "            elif (abs(m[j][i]-m[cur[1]][cur[0]])<=d):\n",
    "                nei.append([i,j])\n",
    "    return nei\n",
    "        "
   ]
  },
  {
   "cell_type": "code",
   "execution_count": 3,
   "metadata": {},
   "outputs": [],
   "source": [
    "def backtrack(cur,parent):\n",
    "    op=\"\"\n",
    "    op+=(str(cur[0])+\",\"+str(cur[1]))\n",
    "    while(parent[cur[1]][cur[0]]!=[-1,-1]):\n",
    "        op=(str(parent[cur[1]][cur[0]][0])+\",\"+str(parent[cur[1]][cur[0]][1])+\" \"+op)\n",
    "        cur=[parent[cur[1]][cur[0]][0],parent[cur[1]][cur[0]][1]]\n",
    "    return(op)"
   ]
  },
  {
   "cell_type": "code",
   "execution_count": 4,
   "metadata": {},
   "outputs": [],
   "source": [
    "def bfs(s):\n",
    "    g=pos.copy()\n",
    "    GOAL=[\"FAIL\" for _ in range(0,len(g))]\n",
    "    closed=[]\n",
    "    visited=[[-1 for _ in range(0,w)] for __ in range(0,h)]\n",
    "    frontier=[s]\n",
    "    par=[[[-1,-1] for _ in range(0,w)] for __ in range(0,h)]\n",
    "    visited[s[1]][s[0]]=1\n",
    "    while(len(frontier)!=0):\n",
    "        cur=frontier.pop(0)\n",
    "        closed.append(cur)\n",
    "        if(cur in g): \n",
    "            \n",
    "            g.remove(cur)\n",
    "            \n",
    "            GOAL[pos.index(cur)]=backtrack(cur,par)\n",
    "            \n",
    "            if(len(g)==0):\n",
    "                return GOAL\n",
    "        print(cur,adj(cur))\n",
    "        for nei in adj(cur):\n",
    "            if (visited[nei[1]][nei[0]]!=1):\n",
    "                par[nei[1]][nei[0]]=[cur[0],cur[1]]\n",
    "                visited[nei[1]][nei[0]]=1\n",
    "                frontier.append(nei)\n",
    "                #print(nei)\n",
    "    return GOAL           "
   ]
  },
  {
   "cell_type": "code",
   "execution_count": 5,
   "metadata": {},
   "outputs": [
    {
     "data": {
      "text/plain": [
       "['4,3']"
      ]
     },
     "execution_count": 5,
     "metadata": {},
     "output_type": "execute_result"
    }
   ],
   "source": [
    "bfs([x,y])"
   ]
  },
  {
   "cell_type": "code",
   "execution_count": null,
   "metadata": {},
   "outputs": [],
   "source": [
    "\n"
   ]
  },
  {
   "cell_type": "code",
   "execution_count": null,
   "metadata": {},
   "outputs": [],
   "source": []
  },
  {
   "cell_type": "code",
   "execution_count": 61,
   "metadata": {},
   "outputs": [],
   "source": [
    "\n",
    "\"\"\"\n",
    "w=9\n",
    "h=9\n",
    "x=7\n",
    "y=3\n",
    "d=20\n",
    "n=5\n",
    "pos=[[0,6],[3,4],[8,4],[2,8],[6,6]]\n",
    "m=[\n",
    "    [54,87,43,32,65,42,76,43,83],[29,53,76,64,23,75,32,75,42],[23,76,23,88,44,24,123,654,32],[325,564,42,65,87,32,1,42,53],\n",
    "    [65,32,76,32,65,32,765,33,34],[87,43,32,54,87,54,21,76,43],[87,54,32,6,587,43,23,76,2],[23,6,86,4,4,2,54,32,76],\n",
    "    [23,65,87,43,46,5,768,53,32]\n",
    "  ]\n",
    "\n",
    "\n",
    "w=5\n",
    "h=7\n",
    "x=3\n",
    "y=4\n",
    "d=32\n",
    "n=3\n",
    "pos=[[2,2],[4,6],[0,5]]\n",
    "m=[[12,43,31,54,21],[54,32,76,87,43],[76,32,65,87,33],[76,43,21,65,32],[87,32,21,43,43],[32,75,32,5,76],[54,22,457,54,87]]\n",
    "\n",
    "\n",
    "w=10\n",
    "h=12\n",
    "x=7\n",
    "y=2\n",
    "d=6\n",
    "n=5\n",
    "pos=[[3,4],[8,5],[1,1],[9,9],[7,11]]\n",
    "m=[[1,6,4,9,3,7,5,3,8,5],[2,7,3,8,0,4,2,6,9,2],[7,3,7,9,5,2,2,7,9,4],[8,5,0,7,3,2,4,6,9,3],[5,8,5,3,8,5,3,2,5,9],\n",
    "[3,6,9,6,3,2,5,7,9,0],[3,5,7,9,5,4,9,0,0,5],[3,4,5,7,9,7,7,6,9,9],[9,9,546,0,5,3,2,5,7,6],[9,6,4,3,7,9,7,6,54,7],\n",
    "[0,7,6,7,8,6,55,5,6,5],[3,7,9,5644,6456,5,7,8,5,3]]\n",
    "\n",
    "\n",
    "w=7\n",
    "h=5\n",
    "x=4\n",
    "y=3\n",
    "d=3\n",
    "n=3\n",
    "pos=[[1,4],[5,2],[6,4]]\n",
    "m=[[2,3,2,1,3,4,5],[3,7,5,9,1,8,2],[0,0,3,5,1,0,6],[1,2,0,6,3,9,0],[7,2,5,3,6,3,4]]\n",
    "\n",
    "w=5\n",
    "h=3\n",
    "x=0\n",
    "y=0\n",
    "d=5\n",
    "n=1\n",
    "pos=[[4,2]]\n",
    "m=[[1,12,2,0,0],[2,11,1,11,0],[3,2,-1,9,0]]\n",
    "\n",
    "\n",
    "w=8\n",
    "h=6\n",
    "x=4\n",
    "y=4\n",
    "d=7\n",
    "n=2\n",
    "pos=[[1,1],[6,3]]\n",
    "m=[[0,0,0,0,0,0,0,0],[0,60,64,57,45,66,68,0],[0,63,64,57,45,67,68,0],[0,58,64,57,45,68,67,0],[0,60,61,67,65,66,69,0],[0,0,0,0,0,0,0,0]]\n",
    "\n",
    "\n",
    "w=5\n",
    "h=4\n",
    "x=1\n",
    "y=0\n",
    "d=5\n",
    "n=1\n",
    "pos=[[4,3]]\n",
    "m=[[1,2,1,-2,0],[1,1,1,2,9],[9,-1,1,-1,11],[1,2,1,1,-1]]\n",
    "\"\"\"\n",
    "\n",
    "w=7\n",
    "h=5\n",
    "x=4\n",
    "y=3\n",
    "d=3\n",
    "n=3\n",
    "pos=[[1,4],[5,2],[6,4]]\n",
    "m=[[2,3,2,1,3,4,5],[3,7,5,9,1,8,2],[0,0,3,5,1,0,6],[1,2,0,6,3,9,0],[7,2,5,3,6,3,4]]\n"
   ]
  },
  {
   "cell_type": "code",
   "execution_count": 62,
   "metadata": {},
   "outputs": [],
   "source": [
    "def backtrack_ucs(cur,parent):\n",
    "    op=\"\"\n",
    "    op+=(str(cur[0])+\",\"+str(cur[1]))\n",
    "    while(parent[cur[1]][cur[0]]!=[-1,-1]):\n",
    "        op=(str(parent[cur[1]][cur[0]][0])+\",\"+str(parent[cur[1]][cur[0]][1])+\" \"+op)\n",
    "        cur=[parent[cur[1]][cur[0]][0],parent[cur[1]][cur[0]][1]]\n",
    "    return(op)"
   ]
  },
  {
   "cell_type": "code",
   "execution_count": 63,
   "metadata": {},
   "outputs": [],
   "source": [
    "def adj_ucs(cur):\n",
    "    nei=[]\n",
    "    for i in range(cur[1][0]-1,cur[1][0]+2,2):\n",
    "        for j in range(cur[1][1]-1,cur[1][1]+2,2):\n",
    "            #print(i,j,m[j][i],m[cur[0]][cur[1]])\n",
    "            if(i<0 or j<0 or i>=w or j>=h or (i==cur[1][0] and j==cur[1][1]) ):\n",
    "                continue\n",
    "            if (abs(m[j][i]-m[cur[1][1]][cur[1][0]])<=d):\n",
    "                nei.append((cur[0]+14,[i,j]))\n",
    "                \n",
    "    for j in range(cur[1][1]-1,cur[1][1]+2,2):\n",
    "        if(j<0 or  j>=h  ):\n",
    "                continue\n",
    "        if (abs(m[j][cur[1][0]]-m[cur[1][1]][cur[1][0]])<=d):\n",
    "                nei.append((cur[0]+10,[cur[1][0],j]))\n",
    "    \n",
    "    for i in range(cur[1][0]-1,cur[1][0]+2,2):\n",
    "        if(i<0 or  i>=w ):\n",
    "                continue\n",
    "        if (abs(m[cur[1][1]][i]-m[cur[1][1]][cur[1][0]])<=d):\n",
    "                nei.append((cur[0]+10,[i,cur[1][1]]))\n",
    "                \n",
    "    return nei"
   ]
  },
  {
   "cell_type": "code",
   "execution_count": 64,
   "metadata": {},
   "outputs": [],
   "source": [
    "from queue import PriorityQueue\n",
    "def ucs(s):\n",
    "    g=pos.copy()\n",
    "    GOAL=[\"FAIL\" for _ in range(0,len(g))]\n",
    "    closed=[]\n",
    "    visited=[[-1 for _ in range(0,w)] for __ in range(0,h)]\n",
    "    frontier=PriorityQueue()\n",
    "    frontier.put((0,s))\n",
    "    par=[[[-1,-1] for _ in range(0,w)] for __ in range(0,h)]\n",
    "    cos=[[-1 for _ in range(0,w)] for __ in range(0,h)]\n",
    "    visited[s[1]][s[0]]=1\n",
    "    while(not frontier.empty()):\n",
    "        cur=frontier.get()\n",
    "        cur_cost=cur[0]\n",
    "        cur_node=cur[1]\n",
    "        \n",
    "        closed.append(cur_node)\n",
    "        if(cur_node in g): \n",
    "            \n",
    "            g.remove(cur_node)\n",
    "            \n",
    "            GOAL[pos.index(cur_node)]=backtrack_ucs(cur_node,par)\n",
    "            print(backtrack_ucs(cur_node,par),cur_cost)\n",
    "            if(len(g)==0):\n",
    "                return GOAL\n",
    "        \n",
    "        print(cur,adj_ucs(cur))\n",
    "        for nei in adj_ucs(cur):\n",
    "            \"\"\"\n",
    "            if (nei[1] not in closed):\n",
    "                \n",
    "                if(visited[nei[1][1]][nei[1][0]]!=1):\n",
    "                    par[nei[1][1]][nei[1][0]]=[cur_node[0],cur_node[1],nei[0]]\n",
    "                    visited[nei[1][1]][nei[1][0]]=1\n",
    "                    frontier.put(nei)\n",
    "                else:\n",
    "                    if (par[nei[1][1]][nei[1][0]][2]>nei[0]):\n",
    "                        par[nei[1][1]][nei[1][0]]=[cur_node[0],cur_node[1],nei[0]]\n",
    "                        frontier.put(nei)\n",
    "            \"\"\"\n",
    "                #if (par[nei[1][1]][nei[1][0]][2]>nei[0]):\n",
    "            if (nei[1] not in closed):\n",
    "                if(visited[nei[1][1]][nei[1][0]]!=1):\n",
    "                    par[nei[1][1]][nei[1][0]]=[cur_node[0],cur_node[1],nei[0]]\n",
    "                    visited[nei[1][1]][nei[1][0]]=1\n",
    "                    cos[nei[1][1]][nei[1][0]]=nei[0]\n",
    "                    frontier.put(nei)\n",
    "                else:\n",
    "                    if(cos[nei[1][1]][nei[1][0]]> nei[0]):\n",
    "                        cos[nei[1][1]][nei[1][0]]=nei[0]\n",
    "                        par[nei[1][1]][nei[1][0]]=[cur_node[0],cur_node[1],nei[0]]\n",
    "                        frontier.put(nei)\n",
    "                #print(nei)\n",
    "    return GOAL"
   ]
  },
  {
   "cell_type": "code",
   "execution_count": 65,
   "metadata": {},
   "outputs": [
    {
     "name": "stdout",
     "output_type": "stream",
     "text": [
      "(0, [1, 0]) [(14, [0, 1]), (14, [2, 1]), (10, [1, 1]), (10, [0, 0]), (10, [2, 0])]\n",
      "(10, [0, 0]) [(24, [1, 1]), (20, [0, 1]), (20, [1, 0])]\n",
      "(10, [1, 1]) [(24, [0, 0]), (24, [2, 0]), (24, [2, 2]), (20, [1, 0]), (20, [1, 2]), (20, [0, 1]), (20, [2, 1])]\n",
      "(10, [2, 0]) [(24, [1, 1]), (24, [3, 1]), (20, [2, 1]), (20, [1, 0]), (20, [3, 0])]\n",
      "(14, [0, 1]) [(28, [1, 0]), (28, [1, 2]), (24, [0, 0]), (24, [1, 1])]\n",
      "(14, [2, 1]) [(28, [1, 0]), (28, [1, 2]), (28, [3, 0]), (28, [3, 2]), (24, [2, 0]), (24, [2, 2]), (24, [1, 1]), (24, [3, 1])]\n",
      "(20, [1, 2]) [(34, [0, 1]), (34, [0, 3]), (34, [2, 1]), (34, [2, 3]), (30, [1, 1]), (30, [1, 3]), (30, [2, 2])]\n",
      "(20, [3, 0]) [(34, [2, 1]), (30, [3, 1]), (30, [2, 0]), (30, [4, 0])]\n",
      "(24, [2, 2]) [(38, [1, 1]), (38, [1, 3]), (38, [3, 1]), (38, [3, 3]), (34, [2, 1]), (34, [2, 3]), (34, [1, 2]), (34, [3, 2])]\n",
      "(24, [3, 1]) [(38, [2, 0]), (38, [2, 2]), (38, [4, 0]), (34, [3, 0]), (34, [3, 2]), (34, [2, 1])]\n",
      "(28, [3, 2]) [(42, [2, 1]), (42, [2, 3]), (42, [4, 3]), (38, [3, 1]), (38, [3, 3]), (38, [2, 2])]\n",
      "(30, [1, 3]) [(44, [2, 2]), (40, [1, 2]), (40, [0, 3]), (40, [2, 3])]\n",
      "(30, [4, 0]) [(44, [3, 1]), (40, [3, 0])]\n",
      "(34, [0, 3]) [(48, [1, 2]), (44, [1, 3])]\n",
      "(34, [2, 3]) [(48, [1, 2]), (48, [3, 2]), (44, [2, 2]), (44, [1, 3]), (44, [3, 3])]\n",
      "(38, [3, 3]) [(52, [2, 2]), (48, [3, 2]), (48, [2, 3]), (48, [4, 3])]\n",
      "1,0 2,1 3,2 4,3 42\n"
     ]
    },
    {
     "data": {
      "text/plain": [
       "['1,0 2,1 3,2 4,3']"
      ]
     },
     "execution_count": 65,
     "metadata": {},
     "output_type": "execute_result"
    }
   ],
   "source": [
    "\n",
    "ucs([x,y])"
   ]
  },
  {
   "cell_type": "code",
   "execution_count": null,
   "metadata": {},
   "outputs": [],
   "source": [
    "\n"
   ]
  },
  {
   "cell_type": "code",
   "execution_count": null,
   "metadata": {},
   "outputs": [],
   "source": []
  },
  {
   "cell_type": "code",
   "execution_count": null,
   "metadata": {},
   "outputs": [],
   "source": []
  },
  {
   "cell_type": "code",
   "execution_count": null,
   "metadata": {},
   "outputs": [],
   "source": []
  },
  {
   "cell_type": "code",
   "execution_count": 66,
   "metadata": {},
   "outputs": [],
   "source": [
    "\"\"\"\n",
    "w=9\n",
    "h=9\n",
    "x=7\n",
    "y=3\n",
    "d=20\n",
    "n=5\n",
    "pos=[[0,6],[3,4],[8,4],[2,8],[6,6]]\n",
    "m=[\n",
    "    [54,87,43,32,65,42,76,43,83],[29,53,76,64,23,75,32,75,42],[23,76,23,88,44,24,123,654,32],[325,564,42,65,87,32,1,42,53],\n",
    "    [65,32,76,32,65,32,765,33,34],[87,43,32,54,87,54,21,76,43],[87,54,32,6,587,43,23,76,2],[23,6,86,4,4,2,54,32,76],\n",
    "    [23,65,87,43,46,5,768,53,32]\n",
    "  ]\n",
    "\n",
    "\n",
    "w=5\n",
    "h=7\n",
    "x=3\n",
    "y=4\n",
    "d=32\n",
    "n=3\n",
    "pos=[[2,2],[4,6],[0,5]]\n",
    "m=[[12,43,31,54,21],[54,32,76,87,43],[76,32,65,87,33],[76,43,21,65,32],[87,32,21,43,43],[32,75,32,5,76],[54,22,457,54,87]]\n",
    "\n",
    "\n",
    "w=10\n",
    "h=12\n",
    "x=7\n",
    "y=2\n",
    "d=6\n",
    "n=5\n",
    "pos=[[3,4],[8,5],[1,1],[9,9],[7,11]]\n",
    "m=[[1,6,4,9,3,7,5,3,8,5],[2,7,3,8,0,4,2,6,9,2],[7,3,7,9,5,2,2,7,9,4],[8,5,0,7,3,2,4,6,9,3],[5,8,5,3,8,5,3,2,5,9],\n",
    "[3,6,9,6,3,2,5,7,9,0],[3,5,7,9,5,4,9,0,0,5],[3,4,5,7,9,7,7,6,9,9],[9,9,546,0,5,3,2,5,7,6],[9,6,4,3,7,9,7,6,54,7],\n",
    "[0,7,6,7,8,6,55,5,6,5],[3,7,9,5644,6456,5,7,8,5,3]]\n",
    "\n",
    "\n",
    "w=7\n",
    "h=5\n",
    "x=4\n",
    "y=3\n",
    "d=3\n",
    "n=3\n",
    "pos=[[1,4],[5,2],[6,4]]\n",
    "m=[[2,3,2,1,3,4,5],[3,7,5,9,1,8,2],[0,0,3,5,1,0,6],[1,2,0,6,3,9,0],[7,2,5,3,6,3,4]]\n",
    "\n",
    "\n",
    "w=5\n",
    "h=4\n",
    "x=1\n",
    "y=0\n",
    "d=5\n",
    "n=1\n",
    "pos=[[4,3]]\n",
    "m=[[1,2,1,-2,0],[1,1,1,2,9],[9,-1,1,-1,11],[1,2,1,1,-1]]\n",
    "\n",
    "\n",
    "w=8\n",
    "h=6\n",
    "x=4\n",
    "y=4\n",
    "d=7\n",
    "n=2\n",
    "pos=[[1,1],[6,3]]\n",
    "m=[[0,0,0,0,0,0,0,0],[0,60,64,57,45,66,68,0],[0,63,64,57,45,67,68,0],[0,58,64,57,45,68,67,0],[0,60,61,67,65,66,69,0],[0,0,0,0,0,0,0,0]]\n",
    "\n",
    "\n",
    "w=5\n",
    "h=4\n",
    "x=1\n",
    "y=0\n",
    "d=5\n",
    "n=1\n",
    "pos=[[4,3]]\n",
    "m=[[1,2,1,-2,0],[1,1,1,2,9],[9,-1,1,-1,11],[1,2,1,1,-1]]\n",
    "\n",
    "\"\"\"\n",
    "\n",
    "w=7\n",
    "h=5\n",
    "x=4\n",
    "y=3\n",
    "d=3\n",
    "n=3\n",
    "pos=[[1,4],[5,2],[6,4]]\n",
    "m=[[2,3,2,1,3,4,5],[3,7,5,9,1,8,2],[0,0,3,5,1,0,6],[1,2,0,6,3,9,0],[7,2,5,3,6,3,4]]\n"
   ]
  },
  {
   "cell_type": "code",
   "execution_count": null,
   "metadata": {},
   "outputs": [],
   "source": [
    "\n",
    "        "
   ]
  },
  {
   "cell_type": "code",
   "execution_count": 67,
   "metadata": {},
   "outputs": [],
   "source": [
    "def backtrack_a(cur,parent):\n",
    "    op=\"\"\n",
    "    op+=(str(cur[0])+\",\"+str(cur[1]))\n",
    "    while(parent[cur[1]][cur[0]]!=[-1,-1]):\n",
    "        op=(str(parent[cur[1]][cur[0]][0])+\",\"+str(parent[cur[1]][cur[0]][1])+\" \"+op)\n",
    "        cur=[parent[cur[1]][cur[0]][0],parent[cur[1]][cur[0]][1]]\n",
    "    return(op)"
   ]
  },
  {
   "cell_type": "code",
   "execution_count": 68,
   "metadata": {},
   "outputs": [],
   "source": [
    "def adj_a(cur,g,h_):\n",
    "    nei=[]\n",
    "    for i in range(cur[1][0]-1,cur[1][0]+2,2):\n",
    "        for j in range(cur[1][1]-1,cur[1][1]+2,2):\n",
    "            if(i<0 or j<0 or i>=w or j>=h or (i==cur[1][0] and j==cur[1][1]) ):\n",
    "                continue\n",
    "            if (abs(m[j][i]-m[cur[1][1]][cur[1][0]])<=d):\n",
    "                nei.append((cur[0]+14+abs(m[j][i]-m[cur[1][1]][cur[1][0]])+h_[j][i],[i,j]))\n",
    "\n",
    "                           \n",
    "    for j in range(cur[1][1]-1,cur[1][1]+2,2):\n",
    "        if(j<0 or j>=h):\n",
    "                continue\n",
    "        if (abs(m[j][cur[1][0]]-m[cur[1][1]][cur[1][0]])<=d):\n",
    "            \n",
    "            nei.append((cur[0]+10+abs(m[j][cur[1][0]]-m[cur[1][1]][cur[1][0]])+h_[j][cur[1][0]],[cur[1][0],j]))\n",
    "                           \n",
    "        \n",
    "    \n",
    "    for i in range(cur[1][0]-1,cur[1][0]+2,2):\n",
    "        if(i<0 or i>=w ):\n",
    "                continue\n",
    "        if (abs(m[cur[1][1]][i]-m[cur[1][1]][cur[1][0]])<=d):\n",
    "            \n",
    "                nei.append((cur[0]+10+abs(m[cur[1][1]][i]-m[cur[1][1]][cur[1][0]])+h_[cur[1][1]][i],[i,cur[1][1]]))\n",
    "                \n",
    "    return nei"
   ]
  },
  {
   "cell_type": "code",
   "execution_count": 69,
   "metadata": {},
   "outputs": [],
   "source": [
    "from queue import PriorityQueue\n",
    "def a(s):\n",
    "    g1=pos.copy()\n",
    "    GOAL=[\"FAIL\" for _ in range(0,len(g1))]\n",
    "    for g in g1:\n",
    "        \n",
    "        h_=[]\n",
    "        for i in range(0,h):\n",
    "            temp=[]\n",
    "            for j in range(0,w):\n",
    "                temp.append(min(abs(j-g[0]),abs(i-g[1]))*14+(max(abs(j-g[0]),abs(i-g[1]))-min(abs(j-g[0]),abs(i-g[1])))*10)\n",
    "            h_.append(temp)\n",
    "        \n",
    "        closed=[]\n",
    "        visited=[[-1 for _ in range(0,w)] for __ in range(0,h)]\n",
    "        frontier=PriorityQueue()\n",
    "        frontier.put((0+h_[s[1]][s[0]],s))\n",
    "        par=[[[-1,-1] for _ in range(0,w)] for __ in range(0,h)]\n",
    "        cos=[[-1 for _ in range(0,w)] for __ in range(0,h)]\n",
    "        visited[s[1]][s[0]]=1\n",
    "        while(not frontier.empty()):\n",
    "            cur=frontier.get()\n",
    "            cur=(cur[0]-h_[cur[1][1]][cur[1][0]],cur[1])\n",
    "            cur_cost=cur[0]\n",
    "            cur_node=cur[1]\n",
    "        \n",
    "            closed.append(cur_node)\n",
    "            if(cur_node==g): \n",
    "                \n",
    "                \n",
    "            \n",
    "                GOAL[pos.index(cur_node)]=backtrack_a(cur_node,par)\n",
    "                print(backtrack_a(cur_node,par),cur_cost)\n",
    "                continue\n",
    "        \n",
    "            print(cur,adj_a(cur,g,h_))\n",
    "            for nei in adj_a(cur,g,h_):\n",
    "                \n",
    "                \"\"\"\n",
    "                if (nei[1] not in closed):\n",
    "                \n",
    "                    if(visited[nei[1][1]][nei[1][0]]!=1):\n",
    "                        par[nei[1][1]][nei[1][0]]=[cur_node[0],cur_node[1],nei[0]]\n",
    "                        visited[nei[1][1]][nei[1][0]]=1\n",
    "                        frontier.put(nei)\n",
    "                    else:\n",
    "                        if (par[nei[1][1]][nei[1][0]][2]>nei[0]):\n",
    "                            par[nei[1][1]][nei[1][0]]=[cur_node[0],cur_node[1],nei[0]]\n",
    "                            frontier.put(nei)\n",
    "                \"\"\"\n",
    "                    #if (par[nei[1][1]][nei[1][0]][2]>nei[0]):\n",
    "   \n",
    "                if (nei[1] not in closed):\n",
    "                    if(visited[nei[1][1]][nei[1][0]]==-1):\n",
    "\n",
    "                        par[nei[1][1]][nei[1][0]]=[cur_node[0],cur_node[1]]\n",
    "                        visited[nei[1][1]][nei[1][0]]=1\n",
    "                        cos[nei[1][1]][nei[1][0]]=nei[0]\n",
    "                        frontier.put(nei)\n",
    "                    else:\n",
    "\n",
    "                        if(cos[nei[1][1]][nei[1][0]]> nei[0]):\n",
    "                            cos[nei[1][1]][nei[1][0]]=nei[0]\n",
    "                            par[nei[1][1]][nei[1][0]]=[cur_node[0],cur_node[1]]\n",
    "                            frontier.put(nei)\n",
    "                    #print(nei)\n",
    "    return GOAL"
   ]
  },
  {
   "cell_type": "code",
   "execution_count": 70,
   "metadata": {},
   "outputs": [
    {
     "name": "stdout",
     "output_type": "stream",
     "text": [
      "(0, [1, 0]) [(63, [0, 1]), (43, [2, 1]), (49, [1, 1]), (63, [0, 0]), (49, [2, 0])]\n",
      "(15, [2, 1]) [(72, [1, 0]), (65, [1, 2]), (66, [3, 0]), (45, [3, 2]), (63, [2, 0]), (49, [2, 2]), (63, [1, 1]), (50, [3, 1])]\n",
      "(31, [3, 2]) [(75, [2, 1]), (67, [2, 3]), (45, [4, 3]), (68, [3, 1]), (53, [3, 3]), (67, [2, 2])]\n",
      "1,0 2,1 3,2 4,3 45\n",
      "(11, [1, 1]) [(77, [0, 0]), (63, [2, 0]), (49, [2, 2]), (64, [1, 0]), (57, [1, 2]), (69, [0, 1]), (49, [2, 1])]\n",
      "(11, [2, 0]) [(63, [1, 1]), (50, [3, 1]), (49, [2, 1]), (64, [1, 0]), (58, [3, 0])]\n",
      "(25, [2, 2]) [(77, [1, 1]), (70, [1, 3]), (64, [3, 1]), (49, [3, 3]), (63, [2, 1]), (55, [2, 3]), (71, [1, 2]), (51, [3, 2])]\n",
      "(39, [3, 3]) [(77, [2, 2]), (65, [3, 2]), (69, [2, 3]), (51, [4, 3])]\n",
      "(26, [3, 1]) [(79, [2, 0]), (65, [2, 2]), (72, [4, 0]), (74, [3, 0]), (53, [3, 2]), (65, [2, 1])]\n",
      "(43, [3, 3]) [(81, [2, 2]), (69, [3, 2]), (73, [2, 3]), (55, [4, 3])]\n",
      "(35, [2, 3]) [(85, [1, 2]), (65, [3, 2]), (69, [2, 2]), (76, [1, 3]), (55, [3, 3])]\n",
      "(23, [1, 2]) [(87, [0, 1]), (79, [0, 3]), (67, [2, 1]), (59, [2, 3]), (73, [1, 1]), (66, [1, 3]), (59, [2, 2])]\n",
      "(24, [3, 0]) [(69, [2, 1]), (62, [3, 1]), (75, [2, 0]), (66, [4, 0])]\n",
      "(11, [0, 0]) [(63, [1, 1]), (69, [0, 1]), (64, [1, 0])]\n",
      "(15, [0, 1]) [(72, [1, 0]), (65, [1, 2]), (77, [0, 0]), (63, [1, 1])]\n",
      "(31, [1, 2]) [(95, [0, 1]), (87, [0, 3]), (75, [2, 1]), (67, [2, 3]), (81, [1, 1]), (74, [1, 3]), (67, [2, 2])]\n",
      "(36, [1, 3]) [(75, [2, 2]), (83, [1, 2]), (87, [0, 3]), (67, [2, 3])]\n",
      "(32, [3, 0]) [(77, [2, 1]), (70, [3, 1]), (83, [2, 0]), (74, [4, 0])]\n",
      "(36, [4, 0]) [(76, [3, 1]), (82, [3, 0])]\n",
      "(47, [2, 3]) [(97, [1, 2]), (77, [3, 2]), (81, [2, 2]), (88, [1, 3]), (67, [3, 3])]\n",
      "(40, [1, 3]) [(79, [2, 2]), (87, [1, 2]), (91, [0, 3]), (71, [2, 3])]\n",
      "(42, [4, 0]) [(82, [3, 1]), (88, [3, 0])]\n",
      "(39, [0, 3]) [(89, [1, 2]), (80, [1, 3])]\n"
     ]
    },
    {
     "data": {
      "text/plain": [
       "['1,0 2,1 3,2 4,3']"
      ]
     },
     "execution_count": 70,
     "metadata": {},
     "output_type": "execute_result"
    }
   ],
   "source": [
    "a([x,y])"
   ]
  },
  {
   "cell_type": "code",
   "execution_count": 264,
   "metadata": {},
   "outputs": [
    {
     "name": "stdout",
     "output_type": "stream",
     "text": [
      "(2, [1, 2])\n",
      "(2, [2, 2])\n",
      "(5, [1, 2])\n"
     ]
    }
   ],
   "source": [
    "from queue import PriorityQueue\n",
    "\n",
    "q = PriorityQueue()\n",
    "\n",
    "q.put((2,[1,2]))\n",
    "q.put((2,[2,2]))\n",
    "q.put((5,[1,2]))\n",
    "while not q.empty():\n",
    "    print(q.get())\n"
   ]
  },
  {
   "cell_type": "code",
   "execution_count": 55,
   "metadata": {},
   "outputs": [
    {
     "name": "stdout",
     "output_type": "stream",
     "text": [
      "[(17, [5, 3]), (13, [6, 3]), (13, [5, 4])]\n"
     ]
    }
   ],
   "source": [
    "print(adj_ucs((3,[6,4])))"
   ]
  },
  {
   "cell_type": "code",
   "execution_count": 213,
   "metadata": {},
   "outputs": [
    {
     "data": {
      "text/plain": [
       "66"
      ]
     },
     "execution_count": 213,
     "metadata": {},
     "output_type": "execute_result"
    }
   ],
   "source": [
    "m[4][5]"
   ]
  },
  {
   "cell_type": "code",
   "execution_count": 11,
   "metadata": {},
   "outputs": [
    {
     "name": "stdout",
     "output_type": "stream",
     "text": [
      "3,4 \n"
     ]
    }
   ],
   "source": [
    "lol=3\n",
    "loll=4\n",
    "lolol=[]\n",
    "lolol=((str(lol)+\",\"+str(loll)+\" \"))\n",
    "print(lolol)"
   ]
  },
  {
   "cell_type": "code",
   "execution_count": 15,
   "metadata": {},
   "outputs": [],
   "source": [
    "for n in []:\n",
    "    print(1)"
   ]
  },
  {
   "cell_type": "code",
   "execution_count": null,
   "metadata": {},
   "outputs": [],
   "source": []
  }
 ],
 "metadata": {
  "kernelspec": {
   "display_name": "Python 3",
   "language": "python",
   "name": "python3"
  },
  "language_info": {
   "codemirror_mode": {
    "name": "ipython",
    "version": 3
   },
   "file_extension": ".py",
   "mimetype": "text/x-python",
   "name": "python",
   "nbconvert_exporter": "python",
   "pygments_lexer": "ipython3",
   "version": "3.7.3"
  }
 },
 "nbformat": 4,
 "nbformat_minor": 2
}
