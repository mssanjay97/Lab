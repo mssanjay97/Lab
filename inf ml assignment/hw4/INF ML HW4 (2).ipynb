{
 "cells": [
  {
   "cell_type": "code",
   "execution_count": 1,
   "metadata": {},
   "outputs": [],
   "source": [
    "#Done by SANJAY MALLASAMUDRAM SANTHANAM ; USC ID:3124715393\n",
    "#perceptron learning algo\n",
    "import pandas as pd\n",
    "import numpy as np\n",
    "import math\n",
    "from operator import truediv,add \n",
    "import copy"
   ]
  },
  {
   "cell_type": "code",
   "execution_count": 2,
   "metadata": {},
   "outputs": [],
   "source": [
    "#read data \n",
    "data=np.loadtxt('C:/Users/Lenovo/Desktop/classification.txt',delimiter=\",\")"
   ]
  },
  {
   "cell_type": "code",
   "execution_count": 3,
   "metadata": {},
   "outputs": [
    {
     "data": {
      "text/plain": [
       "(2000, 5)"
      ]
     },
     "execution_count": 3,
     "metadata": {},
     "output_type": "execute_result"
    }
   ],
   "source": [
    "#Check data\n",
    "np.shape(data)"
   ]
  },
  {
   "cell_type": "code",
   "execution_count": 4,
   "metadata": {},
   "outputs": [
    {
     "data": {
      "text/plain": [
       "array([[ 0.750072  ,  0.97740794,  0.88565752, -1.        ,  1.        ],\n",
       "       [ 0.87791369,  0.01925101,  0.50671112,  1.        , -1.        ],\n",
       "       [ 0.7773246 ,  0.99406596,  0.82224385, -1.        ,  1.        ],\n",
       "       ...,\n",
       "       [ 0.5155064 ,  0.15354364,  0.01275495,  1.        ,  1.        ],\n",
       "       [ 0.2282263 ,  0.97155357,  0.18305906, -1.        ,  1.        ],\n",
       "       [ 0.36391513,  0.49207061,  0.71952659, -1.        ,  1.        ]])"
      ]
     },
     "execution_count": 4,
     "metadata": {},
     "output_type": "execute_result"
    }
   ],
   "source": [
    "data"
   ]
  },
  {
   "cell_type": "code",
   "execution_count": 5,
   "metadata": {},
   "outputs": [],
   "source": [
    "#take first 4 columns for data points and labels\n",
    "data=data[:,0:4]"
   ]
  },
  {
   "cell_type": "code",
   "execution_count": 6,
   "metadata": {},
   "outputs": [
    {
     "data": {
      "text/plain": [
       "array([[ 0.750072  ,  0.97740794,  0.88565752, -1.        ],\n",
       "       [ 0.87791369,  0.01925101,  0.50671112,  1.        ],\n",
       "       [ 0.7773246 ,  0.99406596,  0.82224385, -1.        ],\n",
       "       ...,\n",
       "       [ 0.5155064 ,  0.15354364,  0.01275495,  1.        ],\n",
       "       [ 0.2282263 ,  0.97155357,  0.18305906, -1.        ],\n",
       "       [ 0.36391513,  0.49207061,  0.71952659, -1.        ]])"
      ]
     },
     "execution_count": 6,
     "metadata": {},
     "output_type": "execute_result"
    }
   ],
   "source": [
    "#cross verify correctness\n",
    "data"
   ]
  },
  {
   "cell_type": "code",
   "execution_count": 7,
   "metadata": {},
   "outputs": [
    {
     "data": {
      "text/plain": [
       "(2000, 4)"
      ]
     },
     "execution_count": 7,
     "metadata": {},
     "output_type": "execute_result"
    }
   ],
   "source": [
    "np.shape(data)"
   ]
  },
  {
   "cell_type": "code",
   "execution_count": 8,
   "metadata": {},
   "outputs": [],
   "source": [
    "#N is total number of data points\n",
    "N= len(data)"
   ]
  },
  {
   "cell_type": "code",
   "execution_count": 9,
   "metadata": {},
   "outputs": [],
   "source": [
    "#assigning data points and labels\n",
    "X=data[:,0:3].T\n",
    "# d is numner of dimensions\n",
    "d=len(X[:,0])\n",
    "#Add x0=1 to all data points\n",
    "X=np.vstack((np.ones((1,2000)),X))\n",
    "y=data[:,3]\n",
    "# assign weights to be zero vector\n",
    "#w=np.random.random(size=(d+1,1))\n",
    "w=np.zeros((d+1,1))"
   ]
  },
  {
   "cell_type": "code",
   "execution_count": 10,
   "metadata": {},
   "outputs": [
    {
     "name": "stdout",
     "output_type": "stream",
     "text": [
      "Converged after  1238  iterations\n",
      "Final weight:  [[ 0.        ]\n",
      " [ 0.00939936]\n",
      " [-0.00753947]\n",
      " [-0.00563132]]\n",
      "Accuracy: 1.0\n",
      "Number of misclassified points:  0\n"
     ]
    }
   ],
   "source": [
    "#count measures how many data points passed without change in weight w. If if comes equal to N i.e. we completed one full\n",
    "#round of data without changing weights w, it means we have reached convergence.In case data is not linearly separable, break\n",
    "#after 7000 iterations.\n",
    "#alpha is learning rate\n",
    "alpha=0.0001\n",
    "#counts how many data points seen afer last modification of weights. If count=N, it means the whole of dataset is seen\n",
    "#without modifying the weights and hence convergence. \n",
    "count=0\n",
    "#used to break loop in case the convergence takes long time or when the data is not linearly separable\n",
    "itr=7000\n",
    "while(count!=N and itr):\n",
    "    i=0\n",
    "    while(i<N and count!=N):\n",
    "        flag=0\n",
    "        if(np.matmul(w.T,X[:,i])>=0 and y[i]<0):\n",
    "            w-=alpha*np.reshape(X[:,i],(d+1,1))\n",
    "            flag=1\n",
    "        elif(np.matmul(w.T,X[:,i])<0 and y[i]>0):\n",
    "            w+=alpha*np.reshape(X[:,i],(d+1,1))\n",
    "            flag=1\n",
    "        if(flag):\n",
    "            count=0\n",
    "        else:\n",
    "            count+=1\n",
    "        i+=1\n",
    "        #print(w)\n",
    "    itr-=1\n",
    "print(\"Converged after \",7000-itr,\" iterations\")\n",
    "print(\"Final weight: \",w)\n",
    "#y_hat is predicted values\n",
    "y_hat=np.zeros(shape=(np.shape(y)))\n",
    "err=0\n",
    "for i in range(N):\n",
    "    y_hat[i]=np.sign(np.matmul(w.T,X[:,i]))\n",
    "    if(y_hat[i]!=y[i]):\n",
    "        err+=1\n",
    "    \n",
    "print('Accuracy:', (N-err)/N)\n",
    "print(\"Number of misclassified points: \",err)\n",
    "#print(\"Mean accuracy: \",(N-err)/N)"
   ]
  },
  {
   "cell_type": "code",
   "execution_count": 11,
   "metadata": {},
   "outputs": [
    {
     "name": "stdout",
     "output_type": "stream",
     "text": [
      "Weights calculated by library function:\n",
      " [[  0.          24.35173999 -18.56164074 -14.10260498]]\n"
     ]
    }
   ],
   "source": [
    "#library function for perceptron learning\n",
    "from sklearn.linear_model import Perceptron\n",
    "clf = Perceptron()\n",
    "clf.fit(X.T, y)\n",
    "print(\"Weights calculated by library function:\\n\",clf.coef_)"
   ]
  },
  {
   "cell_type": "code",
   "execution_count": 12,
   "metadata": {},
   "outputs": [
    {
     "data": {
      "text/plain": [
       "0.98"
      ]
     },
     "execution_count": 12,
     "metadata": {},
     "output_type": "execute_result"
    }
   ],
   "source": [
    "#accuracy score\n",
    "clf.score(X.T,y)"
   ]
  },
  {
   "cell_type": "code",
   "execution_count": 13,
   "metadata": {},
   "outputs": [],
   "source": [
    "#It can be seen that the weight calculated by the libray function is almost a multiple(by a factor of 2500) of the weight calulated by implementation.\n",
    "#Since multiples of weights give the same result as the original, the accuracy wont change as the sign() of the final result\n",
    "#is only required, not the numerical value.\n"
   ]
  },
  {
   "cell_type": "code",
   "execution_count": 14,
   "metadata": {},
   "outputs": [],
   "source": [
    "#pocket algo\n",
    "#read data\n",
    "data=np.loadtxt('C:/Users/Lenovo/Desktop/classification.txt',delimiter=\",\")\n",
    "N=len(data)\n",
    "#assign data points \n",
    "X=data[:,0:3].T\n",
    "#number fo dimensions of data points\n",
    "d=len(X[:,0])\n",
    "#Add x0=1 to all data points\n",
    "X=np.vstack((np.ones((1,2000)),X))\n",
    "y=data[:,4]\n",
    "#randomnly assign weights\n",
    "w=np.zeros(shape=(d+1,1))"
   ]
  },
  {
   "cell_type": "code",
   "execution_count": 15,
   "metadata": {},
   "outputs": [
    {
     "name": "stdout",
     "output_type": "stream",
     "text": [
      "best weight:  [[ 1.00000000e-04]\n",
      " [ 6.09348532e-05]\n",
      " [ 1.62586130e-04]\n",
      " [-3.65629844e-05]]\n",
      "best accuracy: 0.53\n",
      "Lowest misclassification: 940\n",
      "Weight after final iteration:, [[1.00000000e-04]\n",
      " [2.81760345e-05]\n",
      " [1.19863056e-04]\n",
      " [5.45141147e-06]]\n",
      "Accuracy after final iteration: 0.494\n",
      "Number of misclassified points after final iteration:  1012\n"
     ]
    }
   ],
   "source": [
    "#count measures how many data points passed without change in weight w. If if comes equal to N i.e. we completed one full\n",
    "#round of data without changing weights w, it means we have reached convergence\n",
    "#alpha is learning rate\n",
    "alpha=0.0001\n",
    "#counts how many data points seen afer last modification of weights. If count=N, it means the whole of dataset is seen\n",
    "#without modifying the weights and hence convergence. \n",
    "count=0\n",
    "#used to break loop in case the convergence takes long time or when the data is not linearly separable\n",
    "itr=7000\n",
    "#stores minimum value of number of misclassifications across all iterations.Initialised with -1 before 1st iteration\n",
    "misc=-1\n",
    "#array to store no of misclassified points in each iteration\n",
    "mis_arr=[]\n",
    "#stores best weight .Initialised with zero\n",
    "weig=np.zeros(shape=(d+1,1))\n",
    "while(count!=N and itr):\n",
    "    i=0\n",
    "    #number of miclassifications in current iteration\n",
    "    M=0\n",
    "    while(i<N and count!=N):\n",
    "        #flag denotes is there is a misclassification\n",
    "        flag=0\n",
    "        if(np.matmul(w.T,X[:,i])>=0 and y[i]<0):\n",
    "            w-=alpha*np.reshape(X[:,i],(d+1,1))\n",
    "            flag=1\n",
    "        elif(np.matmul(w.T,X[:,i])<0 and y[i]>0):\n",
    "            w+=alpha*np.reshape(X[:,i],(d+1,1))\n",
    "            flag=1\n",
    "        if(flag):\n",
    "            count=0\n",
    "            M+=1\n",
    "        else:\n",
    "            count+=1\n",
    "        i+=1\n",
    "        #print(w)\n",
    "    itr-=1\n",
    "    mis_arr.append(M)\n",
    "    if(misc==-1 or M<misc):\n",
    "        misc=M\n",
    "        weig=copy.deepcopy(w)\n",
    "        \n",
    "print(\"best weight: \",weig)\n",
    "print(\"best accuracy:\",(N-misc)/N)\n",
    "print(\"Lowest misclassification:\",misc)\n",
    "print(\"Weight after final iteration:,\",w)\n",
    "y_hat=np.zeros(shape=(np.shape(y)))\n",
    "#stores number of misclassifications\n",
    "err=0\n",
    "#calculate number of misclassifications\n",
    "for i in range(N):\n",
    "    y_hat[i]=np.sign(np.matmul(w.T,X[:,i]))\n",
    "    if(y_hat[i]!=y[i]):\n",
    "        err+=1\n",
    "    \n",
    "print('Accuracy after final iteration:', (N-err)/N)\n",
    "print(\"Number of misclassified points after final iteration: \",err)\n",
    "#print(\"Mean accuracy: \",(N-err)/N)"
   ]
  },
  {
   "cell_type": "code",
   "execution_count": 31,
   "metadata": {},
   "outputs": [
    {
     "data": {
      "image/png": "[encoded data removed]",
      "text/plain": [
       "<Figure size 432x288 with 1 Axes>"
      ]
     },
     "metadata": {
      "needs_background": "light"
     },
     "output_type": "display_data"
    },
    {
     "data": {
      "text/plain": [
       "'\\nNOTE: rerun this cell if the plot doesnt show. Sometimes rerunning the cell gives correct output. \\n'"
      ]
     },
     "execution_count": 31,
     "metadata": {},
     "output_type": "execute_result"
    }
   ],
   "source": [
    "#graph of number of misclassification pts vs number of iterations\n",
    "import matplotlib.pyplot as plt\n",
    "plt.xlabel(\"Number of iterations\")\n",
    "plt.ylabel(\"Number of misclassifications\")\n",
    "plt.plot(mis_arr)\n",
    "plt.show()\n",
    "\"\"\"\n",
    "NOTE: rerun this cell if the plot doesnt show. Sometimes rerunning the cell gives correct output. \n",
    "\"\"\""
   ]
  },
  {
   "cell_type": "code",
   "execution_count": 17,
   "metadata": {},
   "outputs": [
    {
     "data": {
      "text/plain": [
       "array([ 940,  944,  946,  947,  948,  950,  951,  952,  953,  954,  955,\n",
       "        956,  957,  958,  959,  960,  961,  962,  963,  964,  965,  966,\n",
       "        967,  968,  969,  970,  971,  972,  973,  974,  975,  976,  977,\n",
       "        978,  979,  980,  981,  982,  983,  984,  985,  986,  987,  988,\n",
       "        989,  990,  991,  992,  993,  994,  995,  996,  997,  998,  999,\n",
       "       1000, 1001, 1002, 1003, 1004, 1005, 1006, 1007, 1008, 1009, 1010,\n",
       "       1011, 1012, 1014, 1016, 1017, 1018, 1020, 1022, 1024, 1026, 1028,\n",
       "       1030])"
      ]
     },
     "execution_count": 17,
     "metadata": {},
     "output_type": "execute_result"
    }
   ],
   "source": [
    "#range of no. of miscalssification pts \n",
    "np.unique(mis_arr)"
   ]
  },
  {
   "cell_type": "code",
   "execution_count": 18,
   "metadata": {},
   "outputs": [],
   "source": [
    "#It is seen that the pocket algorithms stores the best weights obtained and it can also be seen that the weight after final \n",
    "#itertion of perceptron algorithm is less accurate than the best weight returned by the pocket algorithm"
   ]
  },
  {
   "cell_type": "code",
   "execution_count": 19,
   "metadata": {},
   "outputs": [
    {
     "name": "stdout",
     "output_type": "stream",
     "text": [
      "Weights calculated by library function:\n",
      " [[ 0.         -1.67159882 -1.89735341 -0.81731086]]\n",
      "Accuracy returned by pocket algo library function: 0.506\n"
     ]
    }
   ],
   "source": [
    "#library function to test how accurate the pocket algorithm implementation is with the perceptron learning algo\n",
    "from sklearn.linear_model import Perceptron\n",
    "clf = Perceptron()\n",
    "clf.fit(X.T, y)\n",
    "print(\"Weights calculated by library function:\\n\",clf.coef_)\n",
    "print(\"Accuracy returned by pocket algo library function:\",clf.score(X.T,y))"
   ]
  },
  {
   "cell_type": "code",
   "execution_count": 20,
   "metadata": {},
   "outputs": [],
   "source": [
    "#thus pocket algorithm implementation gives better result than standard perceptron learning algo"
   ]
  },
  {
   "cell_type": "code",
   "execution_count": 21,
   "metadata": {},
   "outputs": [],
   "source": [
    "#logistic regression\n",
    "data=np.loadtxt('C:/Users/Lenovo/Desktop/classification.txt',delimiter=\",\")\n",
    "N=len(data)\n",
    "#first 3 columns are data points\n",
    "X=data[:,0:3].T\n",
    "d=len(X[:,0])\n",
    "#assign x0=1 to all data points\n",
    "X=np.vstack((np.ones((1,2000)),X))\n",
    "#last column is label\n",
    "y=data[:,4]\n",
    "#randomnly assign weights\n",
    "#w=np.random.rand(d+1,1)\n",
    "w=np.zeros((d+1,1))"
   ]
  },
  {
   "cell_type": "code",
   "execution_count": 22,
   "metadata": {},
   "outputs": [
    {
     "name": "stdout",
     "output_type": "stream",
     "text": [
      "Final weight:  [[-0.03149498]\n",
      " [-0.17769975]\n",
      " [ 0.11444872]\n",
      " [ 0.07669738]]\n",
      "Accuracy: 0.5295\n",
      "Number of misclassified points:  941\n"
     ]
    }
   ],
   "source": [
    "#number of iterations\n",
    "itr=7000\n",
    "#learning rate\n",
    "alpha=0.1\n",
    "for i in range(itr):\n",
    "    \"\"\"\n",
    "    #predict y labels for current weight assignment w.\n",
    "    y_pred=np.exp(np.matmul(w.T,X))/(1+np.exp(np.matmul(w.T,X)))\n",
    "    #update weights w. simultaneous update is done for all coefficients w0,w1,...,wd\n",
    "    w-=alpha*np.dot(X,np.reshape((y_pred-y),(N,1)))/N\n",
    "    #print loss every 1000 iterations to check if it nearing convergence \n",
    "    if(i%1000==0):\n",
    "        print(\"Loss:\",(-y * np.log(y_pred) - (1 - y) * np.log(1 - y_pred)).mean())\n",
    "    \"\"\"\n",
    "    #stores derivative value which is sued to update weight w\n",
    "    delta=np.zeros((d+1,1))\n",
    "    #for j in range(N):\n",
    "        #delta+=y[j]*np.reshape(X[:,j],(d+1,1))/(1+np.exp(y[j]*np.matmul(w.T,np.reshape(X[:,j],(d+1,1)))))\n",
    "    #delta*=-1/N\n",
    "    delta=-np.matmul(y.T/(1+np.exp(y.T*np.matmul(w.T,X))),X.T).T/N\n",
    "    \n",
    "    w-=alpha*delta \n",
    "    \n",
    "print(\"Final weight: \",w)\n",
    "#final prediction of lables\n",
    "y_hat=np.zeros(shape=(np.shape(y)))\n",
    "#used to count number of misclassified points\n",
    "err=0\n",
    "#find number of misclassified points\n",
    "for i in range(N):\n",
    "    y_hat[i]=np.sign(np.matmul(w.T,X[:,i]))\n",
    "    if(np.sign(y_hat[i])!=np.sign(y[i])):\n",
    "        err+=1\n",
    "    \n",
    "print('Accuracy:', (N-err)/N)\n",
    "print(\"Number of misclassified points: \",err)\n",
    "    "
   ]
  },
  {
   "cell_type": "code",
   "execution_count": 23,
   "metadata": {},
   "outputs": [
    {
     "name": "stdout",
     "output_type": "stream",
     "text": [
      "Score: 0.5295\n",
      "Weights calculated by library function [[-0.01550526 -0.17376308  0.11159028  0.07474653]]\n"
     ]
    },
    {
     "name": "stderr",
     "output_type": "stream",
     "text": [
      "C:\\Users\\Lenovo\\Anaconda3\\lib\\site-packages\\sklearn\\linear_model\\logistic.py:432: FutureWarning: Default solver will be changed to 'lbfgs' in 0.22. Specify a solver to silence this warning.\n",
      "  FutureWarning)\n"
     ]
    }
   ],
   "source": [
    "#library function\n",
    "from sklearn.linear_model import LogisticRegression\n",
    "clf = LogisticRegression(random_state=0).fit(X.T, y)\n",
    "print(\"Score:\",clf.score(X.T, y))\n",
    "print(\"Weights calculated by library function\",clf.coef_)"
   ]
  },
  {
   "cell_type": "code",
   "execution_count": 24,
   "metadata": {},
   "outputs": [],
   "source": [
    "#Weights  of both the library version and implementation are pretty similar.Accuracy of both versions are exactly the same"
   ]
  },
  {
   "cell_type": "code",
   "execution_count": 25,
   "metadata": {},
   "outputs": [],
   "source": [
    "import numpy as np"
   ]
  },
  {
   "cell_type": "code",
   "execution_count": 26,
   "metadata": {},
   "outputs": [],
   "source": [
    "#linear regression\n",
    "data=np.loadtxt('C:/Users/Lenovo/Desktop/linear-regression.txt',delimiter=\",\")\n",
    "N=len(data)\n",
    "#first 2 data columns are x and y independent variables\n",
    "X=data[:,0:2].T\n",
    "d=len(X[:,0])\n",
    "X=np.vstack((np.ones((1,N)),X))\n",
    "#3rd column is z dependent variable\n",
    "y=data[:,2]\n",
    "#randomnly assign weights\n",
    "w=np.random.rand(d+1,1)"
   ]
  },
  {
   "cell_type": "code",
   "execution_count": 27,
   "metadata": {},
   "outputs": [],
   "source": [
    "#analytical solution for linear regression.\n",
    "w=np.matmul(np.matmul(np.linalg.inv(np.matmul(X,X.T)),X),np.reshape(y,(N,1)))"
   ]
  },
  {
   "cell_type": "code",
   "execution_count": 28,
   "metadata": {},
   "outputs": [
    {
     "name": "stdout",
     "output_type": "stream",
     "text": [
      "Weights [[0.01523535]\n",
      " [1.08546357]\n",
      " [3.99068855]]\n"
     ]
    }
   ],
   "source": [
    "print(\"Weights\",w)"
   ]
  },
  {
   "cell_type": "code",
   "execution_count": 29,
   "metadata": {},
   "outputs": [
    {
     "name": "stdout",
     "output_type": "stream",
     "text": [
      "Weights calculated by library function [0.         1.08546357 3.99068855]\n"
     ]
    }
   ],
   "source": [
    "from sklearn.linear_model import LinearRegression\n",
    "reg = LinearRegression().fit(X.T, y)\n",
    "print(\"Weights calculated by library function\",reg.coef_)"
   ]
  },
  {
   "cell_type": "code",
   "execution_count": 30,
   "metadata": {},
   "outputs": [],
   "source": [
    "#It can be seen that the weight calculated by the libray function is same as the weight calulated by implementation"
   ]
  }
 ],
 "metadata": {
  "kernelspec": {
   "display_name": "Python 3",
   "language": "python",
   "name": "python3"
  },
  "language_info": {
   "codemirror_mode": {
    "name": "ipython",
    "version": 3
   },
   "file_extension": ".py",
   "mimetype": "text/x-python",
   "name": "python",
   "nbconvert_exporter": "python",
   "pygments_lexer": "ipython3",
   "version": "3.7.3"
  }
 },
 "nbformat": 4,
 "nbformat_minor": 2
}
