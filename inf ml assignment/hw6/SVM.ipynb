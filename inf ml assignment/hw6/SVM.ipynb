{
  "nbformat": 4,
  "nbformat_minor": 0,
  "metadata": {
    "colab": {
      "name": "SVM inf ml assg 6.ipynb",
      "provenance": [],
      "collapsed_sections": []
    },
    "kernelspec": {
      "name": "python3",
      "display_name": "Python 3"
    }
  },
  "cells": [
    {
      "cell_type": "code",
      "metadata": {
        "id": "zxwDTvUL9tKv",
        "colab_type": "code",
        "colab": {}
      },
      "source": [
        "#Done by SANJAY MALLASAMUDRAM SANTHANAM ; USC ID:3124715393\n",
        "#PART (a)\n",
        "import pandas as pd\n",
        "import numpy as np\n",
        "import math\n",
        "import copy\n",
        "import os"
      ],
      "execution_count": 0,
      "outputs": []
    },
    {
      "cell_type": "code",
      "metadata": {
        "id": "AsSQ7md09vZS",
        "colab_type": "code",
        "colab": {}
      },
      "source": [
        "#load data\n",
        "data=np.loadtxt('linsep.txt',delimiter=\",\")"
      ],
      "execution_count": 0,
      "outputs": []
    },
    {
      "cell_type": "code",
      "metadata": {
        "id": "tYWB3Dna92Zf",
        "colab_type": "code",
        "outputId": "dd32c98a-fa88-4243-cbbe-4642b8a10973",
        "colab": {
          "base_uri": "https://localhost:8080/",
          "height": 34
        }
      },
      "source": [
        "len(data)"
      ],
      "execution_count": 3,
      "outputs": [
        {
          "output_type": "execute_result",
          "data": {
            "text/plain": [
              "100"
            ]
          },
          "metadata": {
            "tags": []
          },
          "execution_count": 3
        }
      ]
    },
    {
      "cell_type": "code",
      "metadata": {
        "id": "eFORKfBl93KV",
        "colab_type": "code",
        "colab": {}
      },
      "source": [
        "#separate input and label\n",
        "x=data[:,0:2]\n",
        "y=data[:,2]"
      ],
      "execution_count": 0,
      "outputs": []
    },
    {
      "cell_type": "code",
      "metadata": {
        "id": "_W4Quxr1Ajd7",
        "colab_type": "code",
        "colab": {}
      },
      "source": [
        "#find number of data points and dimensions of point\n",
        "N=len(x)\n",
        "d=len(x[0])\n",
        "y=y.reshape((N,1))"
      ],
      "execution_count": 0,
      "outputs": []
    },
    {
      "cell_type": "code",
      "metadata": {
        "id": "TqlE2Xzl9-dH",
        "colab_type": "code",
        "colab": {}
      },
      "source": [
        "import cvxopt\n",
        "from cvxopt import matrix,solvers"
      ],
      "execution_count": 0,
      "outputs": []
    },
    {
      "cell_type": "code",
      "metadata": {
        "id": "84cutIiS9_MA",
        "colab_type": "code",
        "colab": {}
      },
      "source": [
        "#Pij=(yi*yj*Xi.T*Xj)\n",
        "P=matrix(np.matmul(y*x,(y*x).T), tc='d')\n",
        "#q=(-1)T i.e. vector of -1\n",
        "q=matrix(-1*np.ones((N,1)), tc='d')\n",
        "#G is identity matrix with diagonal =-1 as we have alpha>0 <=> -alpha<0 \n",
        "G=matrix(-1*np.eye(N), tc='d')\n",
        "#h is vector of zeros as we have RHS OF - alpha<0 as zero\n",
        "h=matrix(np.zeros(N), tc='d')\n",
        "#A= y as we have constraint y.T*alpha=0\n",
        "A=matrix(y.reshape(-1,N),tc='d')\n",
        "#b=0 as we have the RHS to be zero. \n",
        "b=matrix(np.zeros(1), tc='d')\n",
        "\n"
      ],
      "execution_count": 0,
      "outputs": []
    },
    {
      "cell_type": "code",
      "metadata": {
        "id": "t0_d_3OfA9Ia",
        "colab_type": "code",
        "colab": {
          "base_uri": "https://localhost:8080/",
          "height": 204
        },
        "outputId": "5422ba08-06f5-4f56-f5d7-c5b377ec136b"
      },
      "source": [
        "#solve eqn \n",
        "sol = solvers.qp(P,q,G,h,A,b)\n"
      ],
      "execution_count": 8,
      "outputs": [
        {
          "output_type": "stream",
          "text": [
            "     pcost       dcost       gap    pres   dres\n",
            " 0: -2.0636e+01 -4.3905e+01  3e+02  2e+01  2e+00\n",
            " 1: -2.2372e+01 -3.7202e+01  9e+01  5e+00  5e-01\n",
            " 2: -2.3112e+01 -3.8857e+01  5e+01  2e+00  2e-01\n",
            " 3: -2.8318e+01 -3.3963e+01  1e+01  4e-01  4e-02\n",
            " 4: -3.2264e+01 -3.3927e+01  2e+00  1e-02  1e-03\n",
            " 5: -3.3568e+01 -3.3764e+01  2e-01  1e-03  1e-04\n",
            " 6: -3.3737e+01 -3.3739e+01  2e-03  1e-05  1e-06\n",
            " 7: -3.3739e+01 -3.3739e+01  2e-05  1e-07  1e-08\n",
            " 8: -3.3739e+01 -3.3739e+01  2e-07  1e-09  1e-10\n",
            "Optimal solution found.\n"
          ],
          "name": "stdout"
        }
      ]
    },
    {
      "cell_type": "code",
      "metadata": {
        "id": "iG1l16ZRBn91",
        "colab_type": "code",
        "outputId": "5cb01cad-e7d2-42b9-dd2e-f59f6e232039",
        "colab": {
          "base_uri": "https://localhost:8080/",
          "height": 1734
        }
      },
      "source": [
        "#print all alpha values\n",
        "print((sol['x']))"
      ],
      "execution_count": 9,
      "outputs": [
        {
          "output_type": "stream",
          "text": [
            "[ 1.16e-09]\n",
            "[ 2.96e-09]\n",
            "[ 4.32e-09]\n",
            "[ 6.23e-10]\n",
            "[ 3.97e-10]\n",
            "[ 3.31e-09]\n",
            "[ 9.20e-10]\n",
            "[ 2.30e-09]\n",
            "[ 4.69e-10]\n",
            "[ 9.07e-10]\n",
            "[ 3.00e-09]\n",
            "[ 7.27e-10]\n",
            "[ 3.94e-10]\n",
            "[ 6.73e-10]\n",
            "[ 1.36e-09]\n",
            "[ 6.96e-10]\n",
            "[ 8.36e-10]\n",
            "[ 2.23e-09]\n",
            "[ 2.00e-09]\n",
            "[ 1.64e-09]\n",
            "[ 1.03e-09]\n",
            "[ 1.14e-09]\n",
            "[ 1.74e-08]\n",
            "[ 2.90e-09]\n",
            "[ 1.51e-09]\n",
            "[ 2.15e-07]\n",
            "[ 2.39e-09]\n",
            "[ 3.37e+01]\n",
            "[ 2.83e-09]\n",
            "[ 2.39e-09]\n",
            "[ 4.21e-10]\n",
            "[ 9.74e-10]\n",
            "[ 5.47e-10]\n",
            "[ 1.16e-09]\n",
            "[ 3.79e-10]\n",
            "[ 1.66e-09]\n",
            "[ 1.58e-09]\n",
            "[ 8.94e-10]\n",
            "[ 5.28e-10]\n",
            "[ 2.00e-09]\n",
            "[ 8.22e-10]\n",
            "[ 5.63e-10]\n",
            "[ 3.24e-09]\n",
            "[ 9.98e-10]\n",
            "[ 9.14e-10]\n",
            "[ 4.02e-10]\n",
            "[ 4.12e-10]\n",
            "[ 1.76e-09]\n",
            "[ 2.15e-09]\n",
            "[ 1.30e-09]\n",
            "[ 1.31e-09]\n",
            "[ 1.16e-09]\n",
            "[ 1.92e-09]\n",
            "[ 1.41e-09]\n",
            "[ 7.22e-10]\n",
            "[ 9.69e-09]\n",
            "[ 2.97e-08]\n",
            "[ 4.06e-09]\n",
            "[ 7.65e-10]\n",
            "[ 9.54e-10]\n",
            "[ 6.23e-09]\n",
            "[ 3.74e-09]\n",
            "[ 5.52e-10]\n",
            "[ 1.20e-09]\n",
            "[ 1.12e-09]\n",
            "[ 1.82e-09]\n",
            "[ 1.29e-09]\n",
            "[ 1.09e-09]\n",
            "[ 3.32e-10]\n",
            "[ 1.52e-09]\n",
            "[ 4.68e-10]\n",
            "[ 2.07e-09]\n",
            "[ 4.95e-10]\n",
            "[ 2.86e-09]\n",
            "[ 1.52e-09]\n",
            "[ 2.76e-09]\n",
            "[ 2.56e-09]\n",
            "[ 5.67e-10]\n",
            "[ 2.74e-09]\n",
            "[ 1.11e-09]\n",
            "[ 1.11e-09]\n",
            "[ 7.11e-10]\n",
            "[ 1.51e-09]\n",
            "[ 1.29e+00]\n",
            "[ 4.90e-10]\n",
            "[ 6.93e-10]\n",
            "[ 5.68e-10]\n",
            "[ 3.24e+01]\n",
            "[ 9.68e-10]\n",
            "[ 2.77e-09]\n",
            "[ 5.45e-10]\n",
            "[ 2.47e-09]\n",
            "[ 4.33e-10]\n",
            "[ 5.64e-09]\n",
            "[ 7.79e-10]\n",
            "[ 3.20e-09]\n",
            "[ 1.17e-09]\n",
            "[ 2.52e-09]\n",
            "[ 1.82e-09]\n",
            "[ 6.09e-10]\n",
            "\n"
          ],
          "name": "stdout"
        }
      ]
    },
    {
      "cell_type": "code",
      "metadata": {
        "id": "DK5eWVIyCaBx",
        "colab_type": "code",
        "outputId": "d91e135e-15d8-4c29-eb10-2f1c8fca0461",
        "colab": {
          "base_uri": "https://localhost:8080/",
          "height": 255
        }
      },
      "source": [
        "#solution details\n",
        "sol"
      ],
      "execution_count": 10,
      "outputs": [
        {
          "output_type": "execute_result",
          "data": {
            "text/plain": [
              "{'dual infeasibility': 1.2144726770965757e-10,\n",
              " 'dual objective': -33.738752410222155,\n",
              " 'dual slack': 1.6873103881494114e-10,\n",
              " 'gap': 2.4222439971708235e-07,\n",
              " 'iterations': 8,\n",
              " 'primal infeasibility': 1.163461785745105e-09,\n",
              " 'primal objective': -33.7387521905106,\n",
              " 'primal slack': 4.479968201171581e-10,\n",
              " 'relative gap': 7.179411922211238e-09,\n",
              " 's': <100x1 matrix, tc='d'>,\n",
              " 'status': 'optimal',\n",
              " 'x': <100x1 matrix, tc='d'>,\n",
              " 'y': <1x1 matrix, tc='d'>,\n",
              " 'z': <100x1 matrix, tc='d'>}"
            ]
          },
          "metadata": {
            "tags": []
          },
          "execution_count": 10
        }
      ]
    },
    {
      "cell_type": "code",
      "metadata": {
        "id": "WCyVSITkCa9_",
        "colab_type": "code",
        "colab": {}
      },
      "source": [
        "#Compute w\n",
        "w=0\n",
        "for i in range(N):\n",
        "  w+=sol['x'][i]*y[i]*x[i,:]\n"
      ],
      "execution_count": 0,
      "outputs": []
    },
    {
      "cell_type": "code",
      "metadata": {
        "id": "EvkiR8H52WJX",
        "colab_type": "code",
        "colab": {
          "base_uri": "https://localhost:8080/",
          "height": 51
        },
        "outputId": "af7420cd-c021-4747-9dd3-be5d2ceb1118"
      },
      "source": [
        "print(\"W:\")\n",
        "print(w)"
      ],
      "execution_count": 12,
      "outputs": [
        {
          "output_type": "stream",
          "text": [
            "W:\n",
            "[ 7.2500563  -3.86188924]\n"
          ],
          "name": "stdout"
        }
      ]
    },
    {
      "cell_type": "code",
      "metadata": {
        "id": "fVKmERvTuFZs",
        "colab_type": "code",
        "colab": {}
      },
      "source": [
        "\n",
        "sv=(np.array(sol['x'])>0.0001).flatten()\n",
        "#represents position of support vectors i.e. alphas that are >0\n",
        "sv_idx=np.argwhere(sv)"
      ],
      "execution_count": 0,
      "outputs": []
    },
    {
      "cell_type": "code",
      "metadata": {
        "id": "Fv4Ys9D7Ek9X",
        "colab_type": "code",
        "colab": {
          "base_uri": "https://localhost:8080/",
          "height": 68
        },
        "outputId": "163d3db7-31f4-436b-aeb0-eafb43042684"
      },
      "source": [
        "sv_idx"
      ],
      "execution_count": 14,
      "outputs": [
        {
          "output_type": "execute_result",
          "data": {
            "text/plain": [
              "array([[27],\n",
              "       [83],\n",
              "       [87]])"
            ]
          },
          "metadata": {
            "tags": []
          },
          "execution_count": 14
        }
      ]
    },
    {
      "cell_type": "code",
      "metadata": {
        "id": "KDR11gsWHoww",
        "colab_type": "code",
        "colab": {
          "base_uri": "https://localhost:8080/",
          "height": 102
        },
        "outputId": "473be6cf-f306-4ffd-b7c5-f02c7f21a7d5"
      },
      "source": [
        "#non zero alpha values\n",
        "print(np.array(sol['x'])[sv_idx])"
      ],
      "execution_count": 15,
      "outputs": [
        {
          "output_type": "stream",
          "text": [
            "[[[33.73875192]]\n",
            "\n",
            " [[ 1.29468506]]\n",
            "\n",
            " [[32.4440672 ]]]\n"
          ],
          "name": "stdout"
        }
      ]
    },
    {
      "cell_type": "code",
      "metadata": {
        "id": "tkgrRIzBH7Ch",
        "colab_type": "code",
        "colab": {
          "base_uri": "https://localhost:8080/",
          "height": 119
        },
        "outputId": "9f36f4cc-4675-4755-b91a-7a53a5f7407d"
      },
      "source": [
        "print(\"Support vectors:\")\n",
        "\n",
        "print(x[sv_idx])"
      ],
      "execution_count": 16,
      "outputs": [
        {
          "output_type": "stream",
          "text": [
            "Support vectors:\n",
            "[[[0.24979414 0.18230306]]\n",
            "\n",
            " [[0.3917889  0.96675591]]\n",
            "\n",
            " [[0.02066458 0.27003158]]]\n"
          ],
          "name": "stdout"
        }
      ]
    },
    {
      "cell_type": "code",
      "metadata": {
        "id": "A3c4iKSDH_VX",
        "colab_type": "code",
        "colab": {
          "base_uri": "https://localhost:8080/",
          "height": 51
        },
        "outputId": "2fe184d2-5aa3-4e38-dd88-4c3626f94712"
      },
      "source": [
        "#compute value of b \n",
        "b=y[sv_idx[0]]-np.dot(x[sv_idx[0]],w)\n",
        "print(\"b:\")\n",
        "print(b)"
      ],
      "execution_count": 17,
      "outputs": [
        {
          "output_type": "stream",
          "text": [
            "b:\n",
            "[[-0.10698734]]\n"
          ],
          "name": "stdout"
        }
      ]
    },
    {
      "cell_type": "code",
      "metadata": {
        "id": "lqr6nxwYIDnG",
        "colab_type": "code",
        "colab": {
          "base_uri": "https://localhost:8080/",
          "height": 34
        },
        "outputId": "e12b3910-80ae-4dea-db98-57f1d3d61bed"
      },
      "source": [
        "y_pred=np.zeros(N)\n",
        "for i in range(N):\n",
        "  y_pred[i]=np.sign(np.dot(w,x[i])+b)\n",
        "err=0\n",
        "for i in range(N):\n",
        "  if(y_pred[i]!=y[i]):\n",
        "    err=err+1\n",
        "print(\"Accuracy of implementation:\",(N-err)/N)\n"
      ],
      "execution_count": 18,
      "outputs": [
        {
          "output_type": "stream",
          "text": [
            "Accuracy of implementation: 1.0\n"
          ],
          "name": "stdout"
        }
      ]
    },
    {
      "cell_type": "code",
      "metadata": {
        "id": "wVjTCgscImH1",
        "colab_type": "code",
        "colab": {
          "base_uri": "https://localhost:8080/",
          "height": 598
        },
        "outputId": "40b0f7a6-e97d-4560-be5c-31e5863e38fb"
      },
      "source": [
        "from sklearn.svm import SVC\n",
        "clf = SVC(kernel='linear')\n",
        "clf.fit(x,y)\n",
        "print(\"Support vectors of library functon:\")\n",
        "print(clf.support_vectors_)\n",
        "print(\"Coefficients:\")\n",
        "print(clf.coef_)\n",
        "print(\"Intercept:\")\n",
        "print(clf.intercept_)\n",
        "y_pred=clf.predict(x)\n",
        "print(\"Accuracy of library function:\")\n",
        "print(clf.score(x,y_pred))"
      ],
      "execution_count": 19,
      "outputs": [
        {
          "output_type": "stream",
          "text": [
            "Support vectors of library functon:\n",
            "[[0.23307747 0.86884518]\n",
            " [0.23918196 0.81585285]\n",
            " [0.14301642 0.85313079]\n",
            " [0.14586533 0.74931925]\n",
            " [0.26419794 0.91067489]\n",
            " [0.06756031 0.65812372]\n",
            " [0.17422964 0.6157447 ]\n",
            " [0.01107579 0.39873158]\n",
            " [0.15267995 0.8006936 ]\n",
            " [0.03436631 0.50247843]\n",
            " [0.3917889  0.96675591]\n",
            " [0.02066458 0.27003158]\n",
            " [0.55919837 0.70372314]\n",
            " [0.2498981  0.15693917]\n",
            " [0.65628367 0.77812372]\n",
            " [0.27872572 0.23552777]\n",
            " [0.24979414 0.18230306]\n",
            " [0.70631503 0.87261758]\n",
            " [0.22068726 0.11139981]\n",
            " [0.36354491 0.25915653]\n",
            " [0.42066002 0.43762265]\n",
            " [0.76570056 0.98727513]\n",
            " [0.45552411 0.49956489]\n",
            " [0.6798148  0.90468041]]\n",
            "Coefficients:\n",
            "[[ 3.59965788 -2.03198838]]\n",
            "Intercept:\n",
            "[0.21848298]\n",
            "Accuracy of library function:\n",
            "1.0\n"
          ],
          "name": "stdout"
        },
        {
          "output_type": "stream",
          "text": [
            "/usr/local/lib/python3.6/dist-packages/sklearn/utils/validation.py:760: DataConversionWarning: A column-vector y was passed when a 1d array was expected. Please change the shape of y to (n_samples, ), for example using ravel().\n",
            "  y = column_or_1d(y, warn=True)\n"
          ],
          "name": "stderr"
        }
      ]
    },
    {
      "cell_type": "code",
      "metadata": {
        "id": "TpJ_QOpa4qTO",
        "colab_type": "code",
        "colab": {}
      },
      "source": [
        "#part 2 nonlinear data\n",
        "data=np.loadtxt('nonlinsep.txt',delimiter=\",\")"
      ],
      "execution_count": 0,
      "outputs": []
    },
    {
      "cell_type": "code",
      "metadata": {
        "id": "8408Kp-pQBSu",
        "colab_type": "code",
        "colab": {}
      },
      "source": [
        "x=data[:,0:2]\n",
        "y=data[:,2]"
      ],
      "execution_count": 0,
      "outputs": []
    },
    {
      "cell_type": "code",
      "metadata": {
        "id": "IXVibasSP60P",
        "colab_type": "code",
        "colab": {}
      },
      "source": [
        "#find positive and negative class for plotting\n",
        "pos_x=[]\n",
        "neg_x=[]\n",
        "for i in range(len(x)):\n",
        "  if(y[i]>0):\n",
        "    pos_x.append(list(x[i]))\n",
        "  else:\n",
        "    neg_x.append(list(x[i]))"
      ],
      "execution_count": 0,
      "outputs": []
    },
    {
      "cell_type": "code",
      "metadata": {
        "id": "UCNtdM0VQT-1",
        "colab_type": "code",
        "colab": {}
      },
      "source": [
        "pos_x=np.array(pos_x)\n",
        "neg_x=np.array(neg_x)"
      ],
      "execution_count": 0,
      "outputs": []
    },
    {
      "cell_type": "code",
      "metadata": {
        "id": "7yhnjgiyPfo8",
        "colab_type": "code",
        "colab": {
          "base_uri": "https://localhost:8080/",
          "height": 282
        },
        "outputId": "6872481d-328a-4712-ced3-82c2fe0409cd"
      },
      "source": [
        "#plot graph\n",
        "import matplotlib.pyplot as plt\n",
        "plt.plot(pos_x[:,0],pos_x[:,1],'*')\n",
        "plt.plot(neg_x[:,0],neg_x[:,1],'+')"
      ],
      "execution_count": 24,
      "outputs": [
        {
          "output_type": "execute_result",
          "data": {
            "text/plain": [
              "[<matplotlib.lines.Line2D at 0x7f476ebc82b0>]"
            ]
          },
          "metadata": {
            "tags": []
          },
          "execution_count": 24
        },
        {
          "output_type": "display_data",
          "data": {
            "image/png": "[encoded data removed]",
            "text/plain": [
              "<Figure size 432x288 with 1 Axes>"
            ]
          },
          "metadata": {
            "tags": [],
            "needs_background": "light"
          }
        }
      ]
    },
    {
      "cell_type": "code",
      "metadata": {
        "id": "0tRfvRHEQESD",
        "colab_type": "code",
        "colab": {}
      },
      "source": [
        "N=len(x)\n",
        "d=len(x[0])\n",
        "y=y.reshape((N,1))"
      ],
      "execution_count": 0,
      "outputs": []
    },
    {
      "cell_type": "code",
      "metadata": {
        "id": "9LYcQ_GoTmUG",
        "colab_type": "code",
        "colab": {
          "base_uri": "https://localhost:8080/",
          "height": 289
        },
        "outputId": "c8aba612-b30a-4a87-a17f-296a8621afec"
      },
      "source": [
        "import numpy.linalg as la\n",
        "from numpy import linalg\n",
        "print(\"*****************************************************************************************************\")\n",
        "print(\"*****************************************************************************************************\")\n",
        "print(\"*****************************************************************************************************\")\n",
        "print(\"\\n\\n\\n\")\n",
        "print(\"Kernel used is polynomial kernel \\nFrom the above plot it is clear the equation of curve is a circle\")\n",
        "print(\"\\n\\n\\n\")\n",
        "print(\"*****************************************************************************************************\")\n",
        "print(\"*****************************************************************************************************\")\n",
        "print(\"*****************************************************************************************************\")\n",
        "\n",
        "\n",
        "def kernel(x, y, p=2):\n",
        "    return (1 + np.dot(x, y)) ** p\n"
      ],
      "execution_count": 26,
      "outputs": [
        {
          "output_type": "stream",
          "text": [
            "*****************************************************************************************************\n",
            "*****************************************************************************************************\n",
            "*****************************************************************************************************\n",
            "\n",
            "\n",
            "\n",
            "\n",
            "Kernel used is polynomial kernel \n",
            "From the above plot it is clear the equation of curve is a circle\n",
            "\n",
            "\n",
            "\n",
            "\n",
            "*****************************************************************************************************\n",
            "*****************************************************************************************************\n",
            "*****************************************************************************************************\n"
          ],
          "name": "stdout"
        }
      ]
    },
    {
      "cell_type": "code",
      "metadata": {
        "id": "k_HjcfcgT3jd",
        "colab_type": "code",
        "colab": {}
      },
      "source": [
        "#Calculate Pij=(yi*yj*Kernel(Xi,Xj))\n",
        "P=np.zeros((N,N))\n",
        "for i in range(N):\n",
        "  for j in range(N):\n",
        "    P[i][j]=y[i]*y[j]*kernel(x[i],x[j])\n"
      ],
      "execution_count": 0,
      "outputs": []
    },
    {
      "cell_type": "code",
      "metadata": {
        "id": "8Da3ibIIQG7w",
        "colab_type": "code",
        "colab": {}
      },
      "source": [
        "P=matrix(P, tc='d')\n",
        "\n",
        "\n",
        "#q=(-1)T i.e. vector of -1\n",
        "q=matrix(-1*np.ones((N,1)), tc='d')\n",
        "#G is identity matrix with diagonal =-1 as we have alpha>0 <=> -alpha<0 \n",
        "G=matrix(-1*np.eye(N), tc='d')\n",
        "#h is vector of zeros as we have RHS OF - alpha<0 as zero\n",
        "h=matrix(np.zeros(N), tc='d')\n",
        "#A= y as we have constraint y.T*alpha=0\n",
        "A=matrix(y.reshape(-1,N),tc='d')\n",
        "#b=0 as we have the RHS to be zero. \n",
        "b=matrix(np.zeros(1), tc='d')\n",
        "\n"
      ],
      "execution_count": 0,
      "outputs": []
    },
    {
      "cell_type": "code",
      "metadata": {
        "id": "0cuRXBf7QMPO",
        "colab_type": "code",
        "colab": {
          "base_uri": "https://localhost:8080/",
          "height": 289
        },
        "outputId": "81892ba0-4722-4c5f-87cc-3c82ec7a0357"
      },
      "source": [
        "sol = solvers.qp(P,q,G,h,A,b)\n",
        "#solve for equation"
      ],
      "execution_count": 29,
      "outputs": [
        {
          "output_type": "stream",
          "text": [
            "     pcost       dcost       gap    pres   dres\n",
            " 0: -4.0666e+01 -1.0206e+02  5e+02  2e+01  3e+00\n",
            " 1: -1.5924e+02 -2.2789e+02  3e+02  1e+01  1e+00\n",
            " 2: -2.9280e+02 -3.6244e+02  3e+02  1e+01  1e+00\n",
            " 3: -5.7710e+02 -6.0303e+02  4e+02  9e+00  1e+00\n",
            " 4: -1.2873e+03 -1.2409e+03  5e+02  9e+00  1e+00\n",
            " 5: -1.2647e+03 -1.0924e+03  7e+02  8e+00  9e-01\n",
            " 6: -6.9076e+02 -4.0802e+02  1e+03  5e+00  6e-01\n",
            " 7: -1.8688e+02 -2.9779e+01  4e+02  1e+00  2e-01\n",
            " 8: -3.4731e+00 -5.2038e-02  1e+01  3e-02  4e-03\n",
            " 9: -3.5053e-02 -3.8447e-02  1e-01  3e-04  3e-05\n",
            "10: -2.1413e-02 -2.7448e-02  6e-03  1e-17  2e-13\n",
            "11: -2.6166e-02 -2.6328e-02  2e-04  5e-18  2e-13\n",
            "12: -2.6293e-02 -2.6295e-02  2e-06  5e-18  1e-13\n",
            "13: -2.6295e-02 -2.6295e-02  2e-08  4e-18  1e-13\n",
            "Optimal solution found.\n"
          ],
          "name": "stdout"
        }
      ]
    },
    {
      "cell_type": "code",
      "metadata": {
        "id": "i8UU2oKUUJM0",
        "colab_type": "code",
        "colab": {
          "base_uri": "https://localhost:8080/",
          "height": 1734
        },
        "outputId": "69ea8133-d4b5-4b16-dba5-d0a1302335cc"
      },
      "source": [
        "#print all alpha calues\n",
        "print(sol['x'])"
      ],
      "execution_count": 30,
      "outputs": [
        {
          "output_type": "stream",
          "text": [
            "[ 3.14e-12]\n",
            "[ 8.72e-12]\n",
            "[ 3.34e-12]\n",
            "[ 3.56e-12]\n",
            "[ 1.29e-11]\n",
            "[ 1.25e-02]\n",
            "[ 1.55e-11]\n",
            "[ 6.94e-12]\n",
            "[ 1.98e-12]\n",
            "[ 7.51e-12]\n",
            "[ 1.31e-11]\n",
            "[ 4.36e-12]\n",
            "[ 1.81e-12]\n",
            "[ 2.93e-12]\n",
            "[ 1.99e-11]\n",
            "[ 3.66e-12]\n",
            "[ 3.77e-12]\n",
            "[ 2.54e-12]\n",
            "[ 8.59e-12]\n",
            "[ 2.91e-12]\n",
            "[ 2.19e-12]\n",
            "[ 5.27e-12]\n",
            "[ 7.01e-12]\n",
            "[ 3.96e-12]\n",
            "[ 3.03e-12]\n",
            "[ 1.92e-12]\n",
            "[ 7.83e-12]\n",
            "[ 1.01e-11]\n",
            "[ 5.73e-12]\n",
            "[ 4.41e-12]\n",
            "[ 4.45e-12]\n",
            "[ 3.96e-12]\n",
            "[ 2.06e-12]\n",
            "[ 3.02e-12]\n",
            "[ 6.01e-12]\n",
            "[ 2.70e-12]\n",
            "[ 1.50e-02]\n",
            "[ 3.56e-12]\n",
            "[ 1.81e-11]\n",
            "[ 2.36e-12]\n",
            "[ 3.27e-12]\n",
            "[ 3.03e-12]\n",
            "[ 5.93e-12]\n",
            "[ 3.25e-12]\n",
            "[ 2.18e-12]\n",
            "[ 8.37e-12]\n",
            "[ 3.71e-12]\n",
            "[ 2.48e-12]\n",
            "[ 7.29e-12]\n",
            "[ 2.38e-12]\n",
            "[ 4.66e-12]\n",
            "[ 6.64e-03]\n",
            "[ 4.31e-12]\n",
            "[ 2.74e-12]\n",
            "[ 7.33e-12]\n",
            "[ 4.66e-03]\n",
            "[ 2.21e-12]\n",
            "[ 6.45e-12]\n",
            "[ 8.33e-12]\n",
            "[ 6.87e-10]\n",
            "[ 5.51e-12]\n",
            "[ 8.83e-12]\n",
            "[ 5.90e-12]\n",
            "[ 5.62e-12]\n",
            "[ 6.83e-12]\n",
            "[ 6.12e-12]\n",
            "[ 6.15e-12]\n",
            "[ 8.25e-12]\n",
            "[ 5.62e-12]\n",
            "[ 2.04e-11]\n",
            "[ 7.11e-12]\n",
            "[ 4.95e-11]\n",
            "[ 6.86e-12]\n",
            "[ 8.47e-12]\n",
            "[ 9.10e-12]\n",
            "[ 6.36e-12]\n",
            "[ 8.38e-12]\n",
            "[ 1.25e-11]\n",
            "[ 7.32e-12]\n",
            "[ 6.38e-12]\n",
            "[ 9.99e-12]\n",
            "[ 7.81e-12]\n",
            "[ 5.81e-12]\n",
            "[ 7.59e-12]\n",
            "[ 8.65e-12]\n",
            "[ 6.36e-12]\n",
            "[ 7.75e-12]\n",
            "[ 6.59e-12]\n",
            "[ 6.02e-12]\n",
            "[ 6.94e-12]\n",
            "[ 7.05e-12]\n",
            "[ 6.23e-12]\n",
            "[ 6.27e-12]\n",
            "[ 1.96e-11]\n",
            "[ 7.41e-03]\n",
            "[ 6.39e-03]\n",
            "[ 1.76e-11]\n",
            "[ 8.01e-12]\n",
            "[ 7.60e-12]\n",
            "[ 1.31e-11]\n",
            "\n"
          ],
          "name": "stdout"
        }
      ]
    },
    {
      "cell_type": "code",
      "metadata": {
        "id": "A8OfRSPrULA2",
        "colab_type": "code",
        "colab": {
          "base_uri": "https://localhost:8080/",
          "height": 255
        },
        "outputId": "acaafcf2-96d2-46c3-9929-338af18226aa"
      },
      "source": [
        "sol"
      ],
      "execution_count": 31,
      "outputs": [
        {
          "output_type": "execute_result",
          "data": {
            "text/plain": [
              "{'dual infeasibility': 1.4009764698038531e-13,\n",
              " 'dual objective': -0.02629468169231002,\n",
              " 'dual slack': 2.7068456092004104e-08,\n",
              " 'gap': 1.6155817802359547e-08,\n",
              " 'iterations': 13,\n",
              " 'primal infeasibility': 4.422694427346993e-18,\n",
              " 'primal objective': -0.02629466553649222,\n",
              " 'primal slack': 1.8082528872251508e-12,\n",
              " 'relative gap': 6.144142727329316e-07,\n",
              " 's': <100x1 matrix, tc='d'>,\n",
              " 'status': 'optimal',\n",
              " 'x': <100x1 matrix, tc='d'>,\n",
              " 'y': <1x1 matrix, tc='d'>,\n",
              " 'z': <100x1 matrix, tc='d'>}"
            ]
          },
          "metadata": {
            "tags": []
          },
          "execution_count": 31
        }
      ]
    },
    {
      "cell_type": "code",
      "metadata": {
        "id": "apFZCs3DUT-v",
        "colab_type": "code",
        "colab": {}
      },
      "source": [
        "#Find non zero alpha positions\n",
        "sv=(np.array(sol['x'])>0.0001).flatten()\n",
        "sv_idx=np.argwhere(sv)"
      ],
      "execution_count": 0,
      "outputs": []
    },
    {
      "cell_type": "code",
      "metadata": {
        "id": "Rkv0mpfGUaYl",
        "colab_type": "code",
        "colab": {
          "base_uri": "https://localhost:8080/",
          "height": 119
        },
        "outputId": "41edd8dd-018a-4a42-dc54-2b57ee5f7df7"
      },
      "source": [
        "sv_idx"
      ],
      "execution_count": 33,
      "outputs": [
        {
          "output_type": "execute_result",
          "data": {
            "text/plain": [
              "array([[ 5],\n",
              "       [36],\n",
              "       [51],\n",
              "       [55],\n",
              "       [94],\n",
              "       [95]])"
            ]
          },
          "metadata": {
            "tags": []
          },
          "execution_count": 33
        }
      ]
    },
    {
      "cell_type": "code",
      "metadata": {
        "id": "THfb-KhHUbNe",
        "colab_type": "code",
        "colab": {}
      },
      "source": [
        "#support vector\n",
        "sup_vec=x[sv_idx]"
      ],
      "execution_count": 0,
      "outputs": []
    },
    {
      "cell_type": "code",
      "metadata": {
        "id": "3b6vhUVONqzT",
        "colab_type": "code",
        "colab": {
          "base_uri": "https://localhost:8080/",
          "height": 34
        },
        "outputId": "8ea684fa-b3fa-48af-fed5-bcadaf64f520"
      },
      "source": [
        "len(sup_vec)"
      ],
      "execution_count": 35,
      "outputs": [
        {
          "output_type": "execute_result",
          "data": {
            "text/plain": [
              "6"
            ]
          },
          "metadata": {
            "tags": []
          },
          "execution_count": 35
        }
      ]
    },
    {
      "cell_type": "code",
      "metadata": {
        "id": "zAZukAoSb5xP",
        "colab_type": "code",
        "colab": {
          "base_uri": "https://localhost:8080/",
          "height": 221
        },
        "outputId": "37d64f90-993c-4181-b608-1649d68ff485"
      },
      "source": [
        "print(\"Support vector:\")\n",
        "print(sup_vec)"
      ],
      "execution_count": 36,
      "outputs": [
        {
          "output_type": "stream",
          "text": [
            "Support vector:\n",
            "[[[ -8.47422847   5.15621613]]\n",
            "\n",
            " [[-10.260969     2.07391791]]\n",
            "\n",
            " [[  1.3393313  -10.29098822]]\n",
            "\n",
            " [[  9.67917724   4.3759541 ]]\n",
            "\n",
            " [[ -6.80002274  -7.02384335]]\n",
            "\n",
            " [[  9.90143538  -0.31483149]]]\n"
          ],
          "name": "stdout"
        }
      ]
    },
    {
      "cell_type": "code",
      "metadata": {
        "id": "-mmLk1NuUdA7",
        "colab_type": "code",
        "colab": {
          "base_uri": "https://localhost:8080/",
          "height": 119
        },
        "outputId": "eeab17ca-e91b-47d2-9b9c-a3c88f6c6571"
      },
      "source": [
        "sup_vec.flatten().reshape(len(sv_idx),d)"
      ],
      "execution_count": 37,
      "outputs": [
        {
          "output_type": "execute_result",
          "data": {
            "text/plain": [
              "array([[ -8.47422847,   5.15621613],\n",
              "       [-10.260969  ,   2.07391791],\n",
              "       [  1.3393313 , -10.29098822],\n",
              "       [  9.67917724,   4.3759541 ],\n",
              "       [ -6.80002274,  -7.02384335],\n",
              "       [  9.90143538,  -0.31483149]])"
            ]
          },
          "metadata": {
            "tags": []
          },
          "execution_count": 37
        }
      ]
    },
    {
      "cell_type": "code",
      "metadata": {
        "id": "kucGSAOKaIB5",
        "colab_type": "code",
        "colab": {}
      },
      "source": [
        "#non zero alpha values\n",
        "sup_vec_alpha=np.array(sol['x'])[sv_idx]"
      ],
      "execution_count": 0,
      "outputs": []
    },
    {
      "cell_type": "code",
      "metadata": {
        "id": "NbojNvyJaJdJ",
        "colab_type": "code",
        "colab": {
          "base_uri": "https://localhost:8080/",
          "height": 204
        },
        "outputId": "e4231e67-6cef-45ec-ecf4-b0528acb5220"
      },
      "source": [
        "sup_vec_alpha"
      ],
      "execution_count": 39,
      "outputs": [
        {
          "output_type": "execute_result",
          "data": {
            "text/plain": [
              "array([[[0.0125012 ]],\n",
              "\n",
              "       [[0.0149904 ]],\n",
              "\n",
              "       [[0.00664213]],\n",
              "\n",
              "       [[0.00466215]],\n",
              "\n",
              "       [[0.00740837]],\n",
              "\n",
              "       [[0.00638511]]])"
            ]
          },
          "metadata": {
            "tags": []
          },
          "execution_count": 39
        }
      ]
    },
    {
      "cell_type": "code",
      "metadata": {
        "id": "m-soRAF0gtpP",
        "colab_type": "code",
        "colab": {}
      },
      "source": [
        "#labels of support vectors\n",
        "sup_vec_y=y[sv_idx]"
      ],
      "execution_count": 0,
      "outputs": []
    },
    {
      "cell_type": "code",
      "metadata": {
        "id": "RvU30LlSgwqS",
        "colab_type": "code",
        "colab": {
          "base_uri": "https://localhost:8080/",
          "height": 204
        },
        "outputId": "95e93f16-831e-48a8-af5f-3857187d9a14"
      },
      "source": [
        "sup_vec_y"
      ],
      "execution_count": 41,
      "outputs": [
        {
          "output_type": "execute_result",
          "data": {
            "text/plain": [
              "array([[[-1.]],\n",
              "\n",
              "       [[ 1.]],\n",
              "\n",
              "       [[ 1.]],\n",
              "\n",
              "       [[ 1.]],\n",
              "\n",
              "       [[-1.]],\n",
              "\n",
              "       [[-1.]]])"
            ]
          },
          "metadata": {
            "tags": []
          },
          "execution_count": 41
        }
      ]
    },
    {
      "cell_type": "code",
      "metadata": {
        "id": "JSiSw13faJOw",
        "colab_type": "code",
        "colab": {}
      },
      "source": [
        "#Calculate b value using a random support vector as m value\n",
        "b=y[sv_idx[0]]\n",
        "for i in range(len(sup_vec)):\n",
        "  b-=sup_vec_alpha[i]*sup_vec_y[i]*kernel(x[sv_idx[i]],x[sv_idx[0]].T)\n"
      ],
      "execution_count": 0,
      "outputs": []
    },
    {
      "cell_type": "code",
      "metadata": {
        "id": "Teta-OpIaI_W",
        "colab_type": "code",
        "colab": {
          "base_uri": "https://localhost:8080/",
          "height": 51
        },
        "outputId": "56084325-bc8f-443c-a5b9-af57d532f05f"
      },
      "source": [
        "print(\"b:\")\n",
        "print(b)"
      ],
      "execution_count": 43,
      "outputs": [
        {
          "output_type": "stream",
          "text": [
            "b:\n",
            "[[-16.66005249]]\n"
          ],
          "name": "stdout"
        }
      ]
    },
    {
      "cell_type": "code",
      "metadata": {
        "id": "s9kSGyvQKiKA",
        "colab_type": "code",
        "colab": {
          "base_uri": "https://localhost:8080/",
          "height": 34
        },
        "outputId": "b6c1bb43-ded3-4507-84d2-37529ee6224e"
      },
      "source": [
        "y_pred=np.zeros(N)\n",
        "for i in range(N):\n",
        "  s=0\n",
        "  for j in range(len(sv_idx)):\n",
        "    s+=sup_vec_alpha[j]*sup_vec_y[j]*kernel(x[sv_idx[j]],x[i])\n",
        "  y_pred[i]=np.sign(s+b)\n",
        "err=0\n",
        "for i in range(N):\n",
        "  if(y_pred[i]!=y[i]):\n",
        "    err=err+1\n",
        "print(\"Accuracy of implementation:\",(N-err)/N)"
      ],
      "execution_count": 49,
      "outputs": [
        {
          "output_type": "stream",
          "text": [
            "Accuracy of implementation: 1.0\n"
          ],
          "name": "stdout"
        }
      ]
    },
    {
      "cell_type": "code",
      "metadata": {
        "id": "wtiRDhNjZWRa",
        "colab_type": "code",
        "colab": {
          "base_uri": "https://localhost:8080/",
          "height": 1000
        },
        "outputId": "063fae2c-79f9-4c3e-9168-f1b427feb326"
      },
      "source": [
        "from sklearn.svm import SVC\n",
        "clf = SVC(kernel='poly')\n",
        "clf.fit(x,y)\n",
        "print(\"Support vectors of library functon:\")\n",
        "print(clf.support_vectors_)\n",
        "\n",
        "print(\"Intercept:\")\n",
        "print(clf.intercept_)\n",
        "y_pred=clf.predict(x)\n",
        "print(\"Accuracy of library function:\")\n",
        "print(clf.score(x,y_pred))"
      ],
      "execution_count": 51,
      "outputs": [
        {
          "output_type": "stream",
          "text": [
            "Support vectors of library functon:\n",
            "[[ -8.47422847   5.15621613]\n",
            " [  1.31699547  -5.38274816]\n",
            " [ -2.7471552   -8.47244873]\n",
            " [  2.97968693  -2.49860433]\n",
            " [ -2.52922727  -8.29282482]\n",
            " [  7.38012912  -1.36077284]\n",
            " [ -3.97598846  -1.57588443]\n",
            " [ -5.6641213   -5.15957119]\n",
            " [ -6.90647562   7.14833849]\n",
            " [  0.62777463   1.24416427]\n",
            " [ -1.40132717  -7.89496002]\n",
            " [  3.25517668  -2.17320191]\n",
            " [ -1.56822041   0.54897313]\n",
            " [ -2.75451922  -3.66892412]\n",
            " [  0.19284408   5.28058385]\n",
            " [ -1.73942447  -2.49247814]\n",
            " [ -7.47227246  -5.09869845]\n",
            " [ -1.62434502   2.54344738]\n",
            " [ -6.58460709   0.49263571]\n",
            " [ -9.46760885   2.36139525]\n",
            " [ -6.11267832   2.260214  ]\n",
            " [ -6.01390512   5.64535541]\n",
            " [ -5.11486937   1.21194674]\n",
            " [ -6.28466148   5.23802834]\n",
            " [  6.3666283   -6.49712918]\n",
            " [ -6.82939503  -5.58508942]\n",
            " [ -2.66451453  -2.5921847 ]\n",
            " [  0.20162846  -8.81260121]\n",
            " [ -7.22017042  -2.99311063]\n",
            " [ -2.70069925   3.22027052]\n",
            " [  3.49129216   4.55141497]\n",
            " [ -7.07467953   2.99084456]\n",
            " [ -3.27127183  -2.69337135]\n",
            " [ -3.47027963   3.62524904]\n",
            " [ -1.73910738  -4.7002146 ]\n",
            " [ -3.91819679  -0.75834033]\n",
            " [  1.90112006  -3.96946184]\n",
            " [  6.99249663  -6.41143087]\n",
            " [ -6.80002274  -7.02384335]\n",
            " [  9.90143538  -0.31483149]\n",
            " [ -4.98349411   8.31816584]\n",
            " [ -5.06083035   6.04187381]\n",
            " [  1.92405932  -6.33525986]\n",
            " [ 13.14703274 -19.8118231 ]\n",
            " [ 10.24592717   7.95373492]\n",
            " [-20.56769507   8.68464484]\n",
            " [-13.58465635  21.94036504]\n",
            " [-14.23121874   8.57661163]\n",
            " [-15.64719728   3.32039056]\n",
            " [ 10.42163247  23.45279171]\n",
            " [-11.64621294  -0.87217731]\n",
            " [ 12.74780931   0.19913032]\n",
            " [-24.68241909  21.16594535]\n",
            " [-22.47779916   6.69516468]\n",
            " [-10.02833317  11.09354511]\n",
            " [ 22.19384568 -20.81599498]\n",
            " [  9.4073989  -15.80141025]\n",
            " [-22.63814659   6.10417437]\n",
            " [ 21.9265387   15.53137584]\n",
            " [ 12.09288782 -11.65283671]\n",
            " [  3.28969027 -14.15854536]\n",
            " [ 22.42614347 -17.79484871]\n",
            " [  2.91722251 -12.27214032]\n",
            " [ 11.79487022 -11.3924611 ]\n",
            " [ -8.50961599  18.4104395 ]\n",
            " [ -6.41766882 -16.57062517]\n",
            " [ 12.29630776 -13.58191606]\n",
            " [-20.08588052 -21.4203383 ]\n",
            " [ 24.55963843  -1.9636474 ]\n",
            " [ -1.08933763 -14.10562483]\n",
            " [  8.12850656 -19.5567185 ]\n",
            " [-10.260969     2.07391791]\n",
            " [-15.50532883  19.94336178]\n",
            " [  1.66404809  12.68562818]\n",
            " [-23.03961851 -24.17915876]\n",
            " [-19.9566285   13.84906795]\n",
            " [ 24.93834167  -1.51189247]\n",
            " [ 22.88511672  -6.75299078]\n",
            " [-22.96901354 -12.67010547]\n",
            " [ 18.4228554   -2.20783009]\n",
            " [ 21.03826634   6.53015579]\n",
            " [-18.81914596   8.31142157]\n",
            " [  1.3393313  -10.29098822]\n",
            " [ 16.42108453   6.07221393]\n",
            " [-24.88943066   4.62448412]\n",
            " [ 11.75880948  -9.85890377]\n",
            " [  9.67917724   4.3759541 ]]\n",
            "Intercept:\n",
            "[-0.90769788]\n",
            "Accuracy of library function:\n",
            "1.0\n"
          ],
          "name": "stdout"
        },
        {
          "output_type": "stream",
          "text": [
            "/usr/local/lib/python3.6/dist-packages/sklearn/utils/validation.py:760: DataConversionWarning: A column-vector y was passed when a 1d array was expected. Please change the shape of y to (n_samples, ), for example using ravel().\n",
            "  y = column_or_1d(y, warn=True)\n"
          ],
          "name": "stderr"
        }
      ]
    },
    {
      "cell_type": "code",
      "metadata": {
        "id": "l-Plsje0K-hR",
        "colab_type": "code",
        "colab": {}
      },
      "source": [
        ""
      ],
      "execution_count": 0,
      "outputs": []
    }
  ]
}