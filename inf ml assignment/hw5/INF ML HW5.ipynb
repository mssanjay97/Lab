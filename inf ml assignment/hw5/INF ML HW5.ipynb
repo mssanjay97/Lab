{
 "cells": [
  {
   "cell_type": "code",
   "execution_count": 9,
   "metadata": {},
   "outputs": [],
   "source": [
    "#Done by SANJAY MALLASAMUDRAM SANTHANAM ; USC ID:3124715393\n",
    "import pandas as pd\n",
    "import numpy as np\n",
    "import math\n",
    "from operator import truediv,add \n",
    "import copy\n",
    "import os\n",
    "from PIL import Image\n"
   ]
  },
  {
   "cell_type": "code",
   "execution_count": 10,
   "metadata": {},
   "outputs": [],
   "source": [
    "#list to store test data's classification label\n",
    "test_label=[]\n",
    "#list to store train data's classification label\n",
    "train_label=[]\n",
    "#list to store test data\n",
    "test=[]\n",
    "#list to store train data\n",
    "train=[]\n",
    "#read train data file names\n",
    "f=open('C:/Users/Lenovo/Desktop/train.txt','r')\n",
    "train_data_list=f.read()\n",
    "f.close()\n",
    "#read test data file names\n",
    "f=open('C:/Users/Lenovo/Desktop/test.txt','r')\n",
    "test_data_list=f.read()\n",
    "f.close()\n",
    "#split whole chunk of data to separate lines\n",
    "train_data_list=train_data_list.split(\"\\n\")\n",
    "test_data_list=test_data_list.split(\"\\n\")\n",
    "#convert absolute path to relative path i.e. extract file names alone and discard the root directory names\n",
    "for i in range(0,len(train_data_list)):\n",
    "    train_data_list[i]=train_data_list[i].split(\"/\")[-1]\n",
    "for i in range(0,len(test_data_list)):\n",
    "    test_data_list[i]=test_data_list[i].split(\"/\")[-1]\n",
    "#directory where training data images are stored\n",
    "direc=\"C:/Users/Lenovo/Desktop/inf ml hw/hw5/gestures\"\n",
    "#get the names of all folders inside the directory\n",
    "path=os.listdir(direc)\n",
    "#loop for each folder\n",
    "for folder in path:\n",
    "    #loop through all images inside a folder\n",
    "    for p in os.listdir(direc+\"/\"+folder+\"/\"):\n",
    "        #positive sample if image name contains the word 'down'\n",
    "        if \"down\" in p:\n",
    "            #if image name is in training data list, add it to training data \n",
    "            if p in train_data_list:\n",
    "                #+1 denotes label of positive sample\n",
    "                train_label.append(+1)\n",
    "                #store image as numpy array\n",
    "                data=np.asarray(Image.open(direc+\"/\"+folder+\"/\"+p))\n",
    "                #Since images are multi dimensional, convert to 1 D by flattening to so that we can feed it to neural network \n",
    "                #as input\n",
    "                train.append(data.flatten())\n",
    "            else:\n",
    "                test_label.append(+1)\n",
    "                data=np.asarray(Image.open(direc+\"/\"+folder+\"/\"+p))\n",
    "                test.append(data.flatten())\n",
    "        #negative sample otherwise\n",
    "        else:\n",
    "            if p in train_data_list:\n",
    "                #0 denotes label of negative sample\n",
    "                train_label.append(0)\n",
    "                data=np.asarray(Image.open(direc+\"/\"+folder+\"/\"+p))\n",
    "                train.append(data.flatten())\n",
    "            else:\n",
    "                test_label.append(0)\n",
    "                data=np.asarray(Image.open(direc+\"/\"+folder+\"/\"+p))\n",
    "                test.append(data.flatten())\n",
    "\n",
    "                "
   ]
  },
  {
   "cell_type": "code",
   "execution_count": 11,
   "metadata": {},
   "outputs": [],
   "source": [
    "#number of neurons in input layer. Bias included\n",
    "L0=len(train[0])+1\n",
    "#nnumber of neurons in hidden layer including bias\n",
    "L1=100+1\n",
    "#Final layer has only one neuron as output .No bias term\n",
    "L2=1\n",
    "#initialise weights randomnly between -0.01 and 0.01\n",
    "w1=-0.01+np.random.random((L1-1,L0))*0.02\n",
    "w2=-0.01+np.random.random((L2,L1))*0.\n",
    "#learning rate\n",
    "lr=0.1"
   ]
  },
  {
   "cell_type": "code",
   "execution_count": 12,
   "metadata": {},
   "outputs": [],
   "source": [
    "#1000 epochs\n",
    "for epoch in range(0,1000):\n",
    "    #each epoch looks through every data point once.\n",
    "    for i in range(0,len(train)):\n",
    "        #forward pass\n",
    "        #Define input to Neural net\n",
    "        X=np.ones((L0,1))\n",
    "        X[1:]=np.reshape(train[i],(L0-1,1))\n",
    "        #h_net=np.zeros((L1-1,1))\n",
    "        #h_out=np.zeros((L1,1))\n",
    "        \n",
    "        #Hidden layer\n",
    "        #compute weighed sum from input layer\n",
    "        h_net=np.matmul(w1,X)\n",
    "        #compute sigmoid i.e. non-linearity function, the neuron outputs\n",
    "        h_out=np.vstack((1,1/(1+np.exp(-h_net))))\n",
    "        #o_net=np.zeros((L2,1))\n",
    "        #o_out=np.zeros((L2,1))\n",
    "        \n",
    "        #Output layer\n",
    "        #compute weighed sum from hidden layer outputs\n",
    "        o_net=np.matmul(w2,h_out)\n",
    "        #compute sigmoid i.e. non-linearity function, the neuron output\n",
    "        o_out=1/(1+np.exp(-o_net))\n",
    "        \n",
    "        #backpropagaton\n",
    "        #derivative of mean squared error wrt output layer's final  output\n",
    "        dEdo_out=o_out-train_label[i]\n",
    "        #derivative of output layer's final output wrt to its net input\n",
    "        do_outdo_net=o_out*(1-o_out)\n",
    "        #update value for w2\n",
    "        w2update=2*dEdo_out*do_outdo_net*h_out.T\n",
    "        #update value for w1\n",
    "        w1update=np.matmul((2*dEdo_out*do_outdo_net*w2.T*h_out*(1-h_out))[1:],X.T)\n",
    "        \n",
    "        #update weights between hidden layer and output layer\n",
    "        w2-=lr*w2update\n",
    "        #update weights between input layer and hidden layer\n",
    "        w1-=lr*w1update\n",
    "        \n",
    "        \n",
    "    \n",
    "    \n",
    "        "
   ]
  },
  {
   "cell_type": "code",
   "execution_count": null,
   "metadata": {},
   "outputs": [],
   "source": []
  },
  {
   "cell_type": "code",
   "execution_count": 13,
   "metadata": {},
   "outputs": [],
   "source": [
    "#prepare test data by appending x0=1 to all test data points\n",
    "test=np.hstack((np.ones((np.shape(test)[0],1)),test))"
   ]
  },
  {
   "cell_type": "code",
   "execution_count": 14,
   "metadata": {},
   "outputs": [],
   "source": [
    "#predict output\n",
    "y_pred=1/(1+np.exp(-np.matmul(np.hstack((np.ones((np.shape(test)[0],1)),1/(1+np.exp(-np.matmul(test,w1.T))))),w2.T)))"
   ]
  },
  {
   "cell_type": "code",
   "execution_count": 15,
   "metadata": {},
   "outputs": [
    {
     "name": "stdout",
     "output_type": "stream",
     "text": [
      "Predictions [[0.98646339]\n",
      " [0.98642533]\n",
      " [0.98649176]\n",
      " [0.95817089]\n",
      " [0.9864935 ]\n",
      " [0.00169114]\n",
      " [0.03236278]\n",
      " [0.30543416]\n",
      " [0.00168507]\n",
      " [0.00168964]\n",
      " [0.00244507]\n",
      " [0.00289137]\n",
      " [0.00289214]\n",
      " [0.00289164]\n",
      " [0.00289646]\n",
      " [0.00406024]\n",
      " [0.00547234]\n",
      " [0.01430681]\n",
      " [0.00175483]\n",
      " [0.00232697]\n",
      " [0.00284207]\n",
      " [0.11155082]\n",
      " [0.11155082]\n",
      " [0.11155082]\n",
      " [0.11155082]\n",
      " [0.11155082]\n",
      " [0.11155082]\n",
      " [0.11155082]\n",
      " [0.11155082]\n",
      " [0.11155082]\n",
      " [0.11155082]\n",
      " [0.11155082]\n",
      " [0.11155082]\n",
      " [0.11155082]\n",
      " [0.11155082]\n",
      " [0.092277  ]\n",
      " [0.10738723]\n",
      " [0.11155082]\n",
      " [0.11155037]\n",
      " [0.11155082]\n",
      " [0.11155082]\n",
      " [0.11155082]\n",
      " [0.11155082]\n",
      " [0.11155082]\n",
      " [0.11155082]\n",
      " [0.11155082]\n",
      " [0.11155082]\n",
      " [0.11155082]\n",
      " [0.11155082]\n",
      " [0.11155082]\n",
      " [0.11155082]\n",
      " [0.11155082]\n",
      " [0.11155082]\n",
      " [0.11155082]\n",
      " [0.11155082]\n",
      " [0.11155082]\n",
      " [0.11155082]\n",
      " [0.11155082]\n",
      " [0.11155082]\n",
      " [0.11155082]\n",
      " [0.11155082]\n",
      " [0.11155082]\n",
      " [0.11155082]\n",
      " [0.11155082]\n",
      " [0.11155082]\n",
      " [0.11155082]\n",
      " [0.11155082]\n",
      " [0.11155082]\n",
      " [0.11155082]\n",
      " [0.11155082]\n",
      " [0.11155082]\n",
      " [0.11155082]\n",
      " [0.11155082]\n",
      " [0.11155082]\n",
      " [0.11155082]\n",
      " [0.11155082]\n",
      " [0.11155082]\n",
      " [0.11155082]\n",
      " [0.11155082]\n",
      " [0.11155082]\n",
      " [0.11155082]\n",
      " [0.11155082]\n",
      " [0.11155082]\n",
      " [0.11155082]\n",
      " [0.11155082]\n",
      " [0.11155082]\n",
      " [0.11155082]\n",
      " [0.11155082]\n",
      " [0.11155082]\n",
      " [0.11155082]\n",
      " [0.11155082]\n",
      " [0.11155082]\n",
      " [0.11155082]\n",
      " [0.11155082]\n",
      " [0.11155082]\n",
      " [0.11155082]\n",
      " [0.11155082]\n",
      " [0.11155082]\n",
      " [0.11155082]\n",
      " [0.11155082]\n",
      " [0.11155082]\n",
      " [0.11155082]\n",
      " [0.11155082]\n",
      " [0.11155082]\n",
      " [0.11155082]\n",
      " [0.11155082]\n",
      " [0.11155082]\n",
      " [0.11155082]\n",
      " [0.11155082]\n",
      " [0.11155082]\n",
      " [0.11155082]\n",
      " [0.11155082]\n",
      " [0.11155082]\n",
      " [0.11155082]\n",
      " [0.11155082]\n",
      " [0.11155082]\n",
      " [0.11155082]\n",
      " [0.11155082]\n",
      " [0.11155082]\n",
      " [0.11155082]\n",
      " [0.11155082]\n",
      " [0.11155082]\n",
      " [0.11155082]\n",
      " [0.11155082]\n",
      " [0.11155082]\n",
      " [0.11155082]\n",
      " [0.11155082]\n",
      " [0.11155082]\n",
      " [0.11155082]\n",
      " [0.11155082]\n",
      " [0.11155082]\n",
      " [0.11155082]\n",
      " [0.11155082]\n",
      " [0.11155082]\n",
      " [0.11155082]\n",
      " [0.11155082]\n",
      " [0.11155082]\n",
      " [0.11155082]\n",
      " [0.11155082]\n",
      " [0.11155082]\n",
      " [0.11155082]\n",
      " [0.11155082]\n",
      " [0.11155082]\n",
      " [0.11155082]\n",
      " [0.11155082]\n",
      " [0.11155082]\n",
      " [0.11155082]\n",
      " [0.11155082]\n",
      " [0.11155082]\n",
      " [0.11155082]\n",
      " [0.11155082]\n",
      " [0.11155082]\n",
      " [0.11155082]\n",
      " [0.11155082]\n",
      " [0.11155082]\n",
      " [0.11155082]\n",
      " [0.11155082]\n",
      " [0.11155082]\n",
      " [0.11155082]\n",
      " [0.11155082]\n",
      " [0.11155082]\n",
      " [0.11155082]\n",
      " [0.11155082]\n",
      " [0.11155082]\n",
      " [0.11155082]\n",
      " [0.11155082]\n",
      " [0.11155082]\n",
      " [0.11155082]\n",
      " [0.11155082]\n",
      " [0.11155082]\n",
      " [0.11155082]\n",
      " [0.11155082]\n",
      " [0.11155082]\n",
      " [0.11155082]\n",
      " [0.11155082]\n",
      " [0.11155082]\n",
      " [0.11155082]\n",
      " [0.11155082]\n",
      " [0.11155082]\n",
      " [0.11155082]\n",
      " [0.11155082]\n",
      " [0.98649582]\n",
      " [0.98649492]\n",
      " [0.00759025]\n",
      " [0.01386122]\n",
      " [0.00289284]\n",
      " [0.00289121]\n",
      " [0.0138479 ]\n",
      " [0.11155082]]\n"
     ]
    }
   ],
   "source": [
    "print(\"Predictions\",y_pred)"
   ]
  },
  {
   "cell_type": "code",
   "execution_count": 16,
   "metadata": {},
   "outputs": [
    {
     "name": "stdout",
     "output_type": "stream",
     "text": [
      "Mean Squared Error: 43.29638121504464\n"
     ]
    }
   ],
   "source": [
    "#Mean square error of raw neural network output\n",
    "print(\"Mean Squared Error:\",np.sum(np.square(y_pred-test_label))/len(test))"
   ]
  },
  {
   "cell_type": "code",
   "execution_count": 17,
   "metadata": {},
   "outputs": [
    {
     "name": "stdout",
     "output_type": "stream",
     "text": [
      "[1. 1. 1. 1. 1. 0. 0. 0. 0. 0. 0. 0. 0. 0. 0. 0. 0. 0. 0. 0. 0. 0. 0. 0.\n",
      " 0. 0. 0. 0. 0. 0. 0. 0. 0. 0. 0. 0. 0. 0. 0. 0. 0. 0. 0. 0. 0. 0. 0. 0.\n",
      " 0. 0. 0. 0. 0. 0. 0. 0. 0. 0. 0. 0. 0. 0. 0. 0. 0. 0. 0. 0. 0. 0. 0. 0.\n",
      " 0. 0. 0. 0. 0. 0. 0. 0. 0. 0. 0. 0. 0. 0. 0. 0. 0. 0. 0. 0. 0. 0. 0. 0.\n",
      " 0. 0. 0. 0. 0. 0. 0. 0. 0. 0. 0. 0. 0. 0. 0. 0. 0. 0. 0. 0. 0. 0. 0. 0.\n",
      " 0. 0. 0. 0. 0. 0. 0. 0. 0. 0. 0. 0. 0. 0. 0. 0. 0. 0. 0. 0. 0. 0. 0. 0.\n",
      " 0. 0. 0. 0. 0. 0. 0. 0. 0. 0. 0. 0. 0. 0. 0. 0. 0. 0. 0. 0. 0. 0. 0. 0.\n",
      " 0. 0. 0. 0. 0. 0. 0. 0. 0. 0. 0. 0. 0. 1. 1. 0. 0. 0. 0. 0. 0.]\n"
     ]
    }
   ],
   "source": [
    "#round off the output to its nearest label. If output value is > 0.5 it is assigned label 1 else 0.\n",
    "y_pred_round=np.zeros(np.shape(y_pred)[0])\n",
    "for i in range(0,len(y_pred)):\n",
    "    if(y_pred[i]>0.5):\n",
    "        y_pred_round[i]=1\n",
    "print(y_pred_round)"
   ]
  },
  {
   "cell_type": "code",
   "execution_count": 18,
   "metadata": {},
   "outputs": [
    {
     "name": "stdout",
     "output_type": "stream",
     "text": [
      "Mean Squared Error: 0.21164021164021163\n"
     ]
    }
   ],
   "source": [
    "#Mean square error of rounded off output\n",
    "print(\"Mean Squared Error:\",np.sum(np.square(y_pred_round-test_label))/len(test))"
   ]
  },
  {
   "cell_type": "code",
   "execution_count": 19,
   "metadata": {},
   "outputs": [
    {
     "name": "stdout",
     "output_type": "stream",
     "text": [
      "[1 1 1 1 1 0 0 0 0 0 0 0 0 0 0 0 0 0 0 0 0 0 0 0 0 0 0 0 0 0 0 0 0 0 0 0 0\n",
      " 0 0 0 0 0 0 0 0 0 0 0 0 0 0 0 0 0 0 0 0 0 0 0 0 0 0 0 0 0 0 0 0 0 0 0 0 0\n",
      " 0 0 0 0 0 0 0 0 0 0 0 0 0 0 0 0 0 0 0 0 0 1 0 0 0 0 0 0 0 0 0 0 0 0 0 0 0\n",
      " 0 0 0 0 0 0 0 0 0 0 0 0 0 1 1 1 0 0 0 0 0 0 0 0 0 0 0 0 0 1 1 1 1 0 0 0 0\n",
      " 0 0 0 0 0 0 0 0 1 1 1 1 1 0 0 0 0 0 0 0 0 0 0 0 1 1 1 0 0 0 0 0 0 1 1 0 0\n",
      " 0 0 0 0]\n"
     ]
    }
   ],
   "source": [
    "#library function\n",
    "from sklearn.neural_network import MLPClassifier\n",
    "#train library function neural network \n",
    "clf = MLPClassifier(activation='logistic',max_iter=1000,hidden_layer_sizes=(100))\n",
    "clf.fit(train,train_label)\n",
    "#predict output\n",
    "pred=clf.predict(test[:,1:])\n",
    "print(pred)"
   ]
  },
  {
   "cell_type": "code",
   "execution_count": 20,
   "metadata": {},
   "outputs": [
    {
     "name": "stdout",
     "output_type": "stream",
     "text": [
      "Mean Squared Error: 0.12698412698412698\n"
     ]
    }
   ],
   "source": [
    "#mean square error library function's neural network\n",
    "print(\"Mean Squared Error:\",np.sum(np.square(pred-test_label))/len(test))"
   ]
  },
  {
   "cell_type": "code",
   "execution_count": 21,
   "metadata": {},
   "outputs": [
    {
     "name": "stdout",
     "output_type": "stream",
     "text": [
      "[1, 1, 1, 1, 1, 0, 0, 0, 0, 0, 0, 0, 0, 0, 0, 0, 0, 0, 0, 0, 0, 1, 1, 1, 1, 0, 0, 0, 0, 0, 0, 0, 0, 0, 0, 1, 1, 1, 1, 0, 0, 0, 0, 0, 0, 0, 0, 0, 0, 0, 0, 1, 1, 1, 1, 0, 0, 0, 0, 0, 0, 0, 0, 0, 1, 1, 1, 1, 0, 0, 0, 0, 0, 0, 0, 0, 0, 0, 0, 0, 0, 1, 1, 1, 1, 0, 0, 0, 0, 0, 0, 0, 0, 0, 0, 1, 1, 0, 0, 0, 0, 0, 0, 0, 0, 0, 0, 0, 1, 1, 1, 0, 0, 0, 0, 0, 0, 0, 0, 0, 0, 0, 0, 0, 1, 1, 1, 0, 0, 0, 0, 0, 0, 0, 0, 0, 0, 0, 0, 0, 1, 1, 1, 1, 0, 0, 0, 0, 0, 0, 0, 0, 0, 0, 0, 0, 1, 1, 1, 1, 1, 0, 0, 0, 0, 0, 0, 0, 0, 0, 0, 0, 1, 1, 1, 0, 0, 0, 0, 0, 0, 1, 1, 0, 0, 0, 0, 0, 0]\n"
     ]
    }
   ],
   "source": [
    "#print actual label for comparison\n",
    "print(test_label)"
   ]
  },
  {
   "cell_type": "code",
   "execution_count": 22,
   "metadata": {},
   "outputs": [
    {
     "data": {
      "text/plain": [
       "0.9153439153439153"
      ]
     },
     "execution_count": 22,
     "metadata": {},
     "output_type": "execute_result"
    }
   ],
   "source": [
    "#predict how well the implemented neural network's output compare to the library function\n",
    "clf.score(test[:,1:],y_pred_round)"
   ]
  },
  {
   "cell_type": "code",
   "execution_count": 23,
   "metadata": {},
   "outputs": [
    {
     "data": {
      "text/plain": [
       "1.0"
      ]
     },
     "execution_count": 23,
     "metadata": {},
     "output_type": "execute_result"
    }
   ],
   "source": [
    "#predict how well the library neural network's output compare to the library function.it should be 1 as from \n",
    "#library function's Point of view, its output is the most accurate\n",
    "clf.score(test[:,1:],pred)"
   ]
  },
  {
   "cell_type": "code",
   "execution_count": 24,
   "metadata": {},
   "outputs": [
    {
     "name": "stdout",
     "output_type": "stream",
     "text": [
      "Number of Misclassified points: 40\n",
      "Accuracy : 0.7883597883597884\n"
     ]
    }
   ],
   "source": [
    "#find number of miscalssified points for implemented neural network\n",
    "err=0\n",
    "for i in range(0,len(test_label)):\n",
    "    if(y_pred_round[i]!=test_label[i]):\n",
    "        err+=1\n",
    "print(\"Number of Misclassified points:\",err)\n",
    "print(\"Accuracy :\",(len(test_label)-err)/len(test_label))"
   ]
  },
  {
   "cell_type": "code",
   "execution_count": 25,
   "metadata": {},
   "outputs": [
    {
     "name": "stdout",
     "output_type": "stream",
     "text": [
      "Number of Misclassified points: 24\n",
      "Accuracy : 0.873015873015873\n"
     ]
    }
   ],
   "source": [
    "#find number of miscalssified points for library function's neural network\n",
    "err=0\n",
    "for i in range(0,len(test_label)):\n",
    "    if(pred[i]!=test_label[i]):\n",
    "        err+=1\n",
    "print(\"Number of Misclassified points:\",err)\n",
    "print(\"Accuracy :\",(len(test_label)-err)/len(test_label))"
   ]
  },
  {
   "cell_type": "code",
   "execution_count": null,
   "metadata": {},
   "outputs": [],
   "source": []
  }
 ],
 "metadata": {
  "kernelspec": {
   "display_name": "Python 3",
   "language": "python",
   "name": "python3"
  },
  "language_info": {
   "codemirror_mode": {
    "name": "ipython",
    "version": 3
   },
   "file_extension": ".py",
   "mimetype": "text/x-python",
   "name": "python",
   "nbconvert_exporter": "python",
   "pygments_lexer": "ipython3",
   "version": "3.7.3"
  }
 },
 "nbformat": 4,
 "nbformat_minor": 2
}
