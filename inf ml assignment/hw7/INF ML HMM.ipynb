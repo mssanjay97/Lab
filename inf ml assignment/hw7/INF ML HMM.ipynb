{
 "cells": [
  {
   "cell_type": "code",
   "execution_count": 1,
   "metadata": {},
   "outputs": [],
   "source": [
    "#Done by SANJAY MALLASAMUDRAM SANTHANAM ; USC ID:3124715393\n",
    "import pandas as pd\n",
    "import numpy as np\n",
    "import math\n",
    "from operator import truediv,add \n",
    "import copy\n",
    "import os\n",
    "from PIL import Image\n",
    "np.set_printoptions(precision=100)"
   ]
  },
  {
   "cell_type": "code",
   "execution_count": 2,
   "metadata": {},
   "outputs": [],
   "source": [
    "#read file \n",
    "f=open('C:/Users/Lenovo/Desktop/hmm-data.txt')"
   ]
  },
  {
   "cell_type": "code",
   "execution_count": 3,
   "metadata": {},
   "outputs": [
    {
     "name": "stdout",
     "output_type": "stream",
     "text": [
      "['Grid-World:\\n', '\\n', '1 1 1 1 1 1 1 1 1 1\\n', '1 1 1 1 1 1 1 1 1 1\\n', '1 1 0 0 0 0 0 1 1 1\\n', '1 1 0 1 1 1 0 1 1 1\\n', '1 1 0 1 1 1 0 1 1 1\\n', '1 1 0 1 1 1 0 1 1 1\\n', '1 1 0 1 1 1 0 1 1 1\\n', '1 1 1 1 1 1 1 1 1 1\\n', '1 1 1 1 1 1 1 1 1 1\\n', '1 1 1 1 1 1 1 1 1 1\\n', '\\n', '\\n', 'Tower Locations:\\n', '\\n', 'Tower 1: 0 0\\n', 'Tower 2: 0 9\\n', 'Tower 3: 9 0\\n', 'Tower 4: 9 9\\n', '\\n', '\\n', 'Noisy Distances to Towers 1, 2, 3 and 4 Respectively for 11 Time-Steps:\\n', '\\n', '6.3 5.9  5.5 6.7\\n', '5.6 7.2  4.4 6.8\\n', '7.6 9.4  4.3 5.4\\n', '9.5 10.0 3.7 6.6\\n', '6.0 10.7 2.8 5.8\\n', '9.3 10.2 2.6 5.4\\n', '8.0 13.1 1.9 9.4\\n', '6.4 8.2  3.9 8.8\\n', '5.0 10.3 3.6 7.2\\n', '3.8 9.8  4.4 8.8\\n', '3.3 7.6  4.3 8.5']\n"
     ]
    }
   ],
   "source": [
    "#read file line by line\n",
    "data=f.readlines()\n",
    "print(data)  "
   ]
  },
  {
   "cell_type": "code",
   "execution_count": 4,
   "metadata": {},
   "outputs": [
    {
     "name": "stdout",
     "output_type": "stream",
     "text": [
      "[[1 1 1 1 1 1 1 1 1 1]\n",
      " [1 1 1 1 1 1 1 1 1 1]\n",
      " [1 1 0 0 0 0 0 1 1 1]\n",
      " [1 1 0 1 1 1 0 1 1 1]\n",
      " [1 1 0 1 1 1 0 1 1 1]\n",
      " [1 1 0 1 1 1 0 1 1 1]\n",
      " [1 1 0 1 1 1 0 1 1 1]\n",
      " [1 1 1 1 1 1 1 1 1 1]\n",
      " [1 1 1 1 1 1 1 1 1 1]\n",
      " [1 1 1 1 1 1 1 1 1 1]]\n"
     ]
    }
   ],
   "source": [
    "#save world as grid 2d array\n",
    "grid=[]\n",
    "for i in range(0,10):\n",
    "    #strip line of white spaces at the end and split string\n",
    "    temp=data[2+i].strip().split(' ')\n",
    "    #convert string to int\n",
    "    grid.append(list(map(int,temp)))\n",
    "#convert to numpy array\n",
    "grid=np.asarray(grid)\n",
    "print(grid)"
   ]
  },
  {
   "cell_type": "code",
   "execution_count": 5,
   "metadata": {},
   "outputs": [
    {
     "name": "stdout",
     "output_type": "stream",
     "text": [
      "[[0 0]\n",
      " [0 9]\n",
      " [9 0]\n",
      " [9 9]]\n"
     ]
    }
   ],
   "source": [
    "#used to store tower locations\n",
    "tower=[]\n",
    "for i in range(4):\n",
    "    #strip spaces at the end and split string\n",
    "    temp=data[16+i].strip().split()\n",
    "    tower.append([int(temp[-2]),int(temp[-1])])\n",
    "#number of towers\n",
    "n_t=len(tower)\n",
    "#convert to numpy array\n",
    "tower=np.asarray(tower)\n",
    "print(tower)"
   ]
  },
  {
   "cell_type": "code",
   "execution_count": 6,
   "metadata": {},
   "outputs": [
    {
     "name": "stdout",
     "output_type": "stream",
     "text": [
      "[[ 6.3  5.9  5.5  6.7]\n",
      " [ 5.6  7.2  4.4  6.8]\n",
      " [ 7.6  9.4  4.3  5.4]\n",
      " [ 9.5 10.   3.7  6.6]\n",
      " [ 6.  10.7  2.8  5.8]\n",
      " [ 9.3 10.2  2.6  5.4]\n",
      " [ 8.  13.1  1.9  9.4]\n",
      " [ 6.4  8.2  3.9  8.8]\n",
      " [ 5.  10.3  3.6  7.2]\n",
      " [ 3.8  9.8  4.4  8.8]\n",
      " [ 3.3  7.6  4.3  8.5]]\n"
     ]
    }
   ],
   "source": [
    "#noisy distance observations of 4 towers at 11 timesteps\n",
    "dist=[]\n",
    "ts=11\n",
    "for i in range(ts):\n",
    "    #strip spaces at the end and split string\n",
    "    dist.append(list(map(float,data[24+i].strip().split())))\n",
    "#convert to numpy array\n",
    "dist=np.asarray(dist)\n",
    "print(dist)\n",
    "#number of timesteps\n",
    "time_=len(dist)\n"
   ]
  },
  {
   "cell_type": "code",
   "execution_count": 7,
   "metadata": {},
   "outputs": [],
   "source": [
    "#function that returns neighbour of a given cell\n",
    "def neighbour(x,y):\n",
    "    neig=[]\n",
    "    #check left and right cells if they are valid and are free \n",
    "    for i in range(x-1,x+2,2):\n",
    "        j=y\n",
    "        if(i>=0 and i<10 and j>=0 and j<10 and grid[i][j]==1):\n",
    "            neig.append([i,j])\n",
    "    #check top and bottom cells if they are valid and are free \n",
    "    for j in range(y-1,y+2,2):\n",
    "        i=x\n",
    "        if(i>=0 and i<10 and j>=0 and j<10 and grid[i][j]==1):\n",
    "            neig.append([i,j])\n",
    "    return neig\n"
   ]
  },
  {
   "cell_type": "code",
   "execution_count": 8,
   "metadata": {},
   "outputs": [
    {
     "data": {
      "text/plain": [
       "[[4, 5], [3, 4]]"
      ]
     },
     "execution_count": 8,
     "metadata": {},
     "output_type": "execute_result"
    }
   ],
   "source": [
    "neighbour(3,5)"
   ]
  },
  {
   "cell_type": "code",
   "execution_count": 9,
   "metadata": {},
   "outputs": [],
   "source": [
    "#returns eucledian distance between 2 points\n",
    "def euc(x1,y1,x2,y2):\n",
    "    return np.sqrt(np.power((x1-x2),2)+np.power((y1-y2),2))"
   ]
  },
  {
   "cell_type": "code",
   "execution_count": 10,
   "metadata": {},
   "outputs": [],
   "source": [
    "#dimension of square grid\n",
    "l=len(grid)\n",
    "#tower coordinates\n",
    "tower = [[0,0],[0,9],[9,0],[9,9]]\n",
    "#returns emission probabilities of all grids for a given timestamp observation\n",
    "def calc_emission(obs):\n",
    "    emission=np.ones((l,l))\n",
    "    #iterate all grid cells\n",
    "    for i in range(l):\n",
    "        for j in range(l):\n",
    "            #for each grid cell, check if observed noisy dist is in range with actual distance.\n",
    "            \n",
    "            #if cell is an obstacle cell, then assign 0 as observation couldnt have happened here.\n",
    "            if(grid[i][j]==0):\n",
    "                emission[i][j]=0\n",
    "            else:\n",
    "                for t in range(n_t):\n",
    "                    #original distance\n",
    "                    d=euc(tower[t][0],tower[t][1],i,j)\n",
    "                    #print(d,0.7*obs[t],1.3*obs[t])\n",
    "                    #if observed noisy dist to tower t is within acceptable range, then its valid observation\n",
    "                    #It is possible that the robot could have made the observation from this cell. So multiply the \n",
    "                    #uniform distribution probability\n",
    "                    if(0.7*d<=np.round(obs[t],1)<=1.3*d):\n",
    "                        #uniform distribution pdf= 1/(b-a).\n",
    "                        emission[i][j]*=1/((0.6*d)*10+1)\n",
    "                    #if observed distance to tower t in outside acceptable range, then its invalid observation.\n",
    "                    #so the robot cannot have made the observation in the grid. so assign 0\n",
    "                    else:\n",
    "                        emission[i][j]=0\n",
    "            \n",
    "    return emission\n"
   ]
  },
  {
   "cell_type": "code",
   "execution_count": 11,
   "metadata": {},
   "outputs": [
    {
     "data": {
      "text/plain": [
       "'\\nimport sys\\nfor k in range(11):\\n    print(\"Time:\",k)\\n    for i in range(10):\\n        for j in range(10):\\n            em=calc_emission(dist[k])\\n            sys.stdout.write(str(int(em[i][j] and grid[i][j]))+\\' \\')\\n        print(\"\\n\")\\n'"
      ]
     },
     "execution_count": 11,
     "metadata": {},
     "output_type": "execute_result"
    }
   ],
   "source": [
    "\"\"\"\n",
    "import sys\n",
    "for k in range(11):\n",
    "    print(\"Time:\",k)\n",
    "    for i in range(10):\n",
    "        for j in range(10):\n",
    "            em=calc_emission(dist[k])\n",
    "            sys.stdout.write(str(int(em[i][j] and grid[i][j]))+' ')\n",
    "        print(\"\\n\")\n",
    "\"\"\""
   ]
  },
  {
   "cell_type": "code",
   "execution_count": 12,
   "metadata": {},
   "outputs": [],
   "source": [
    "#T1 stores probability values of robot being in cell [i,j] at timestep t as T1[i,j,t]\n",
    "T1=np.zeros((l,l,time_),dtype='float64')\n",
    "#T2 stores the most probable cell from which transition might have  from previous time step given observations from time 1 to t-1\n",
    "#i.e. stores most probable previous cell\n",
    "T2=np.full((l,l,time_),-1)"
   ]
  },
  {
   "cell_type": "code",
   "execution_count": 13,
   "metadata": {},
   "outputs": [],
   "source": [
    "#number of free cells\n",
    "n_free=np.count_nonzero(grid)"
   ]
  },
  {
   "cell_type": "code",
   "execution_count": 14,
   "metadata": {},
   "outputs": [],
   "source": [
    "#calculate emission matrix for 1st timestep\n",
    "emission_0=calc_emission(dist[0])\n",
    "for i in range(l):\n",
    "    for j in range(l):\n",
    "        #initial probability for all cells is assumed to be constant 1/number of free cells.\n",
    "        T1[i,j,0]=float(1/n_free)*emission_0[i][j]\n"
   ]
  },
  {
   "cell_type": "code",
   "execution_count": null,
   "metadata": {},
   "outputs": [],
   "source": []
  },
  {
   "cell_type": "code",
   "execution_count": 15,
   "metadata": {},
   "outputs": [],
   "source": [
    "#iterate forward through each time step\n",
    "for t in range(1,time_):\n",
    "    #calculate emission probability\n",
    "    emission=calc_emission(dist[t])\n",
    "    #iterate all cells\n",
    "    for i in range(l):\n",
    "        for j in range(l):\n",
    "            #get all neighbours of cell\n",
    "            neig=neighbour(i,j)\n",
    "            #for each neighbour\n",
    "            for n in neig:\n",
    "                #find max of (prob of robot being in neighbour cell at t-1*prob of transition from neighbour to current cell*\n",
    "                #emission prob of current observation at time t in current cell)\n",
    "                val=T1[n[0]][n[1]][t-1]*1/float(len(neighbour(n[0],n[1])))*emission[i][j]\n",
    "                if (T1[i,j,t]<val):\n",
    "                    T1[i,j,t]=val\n",
    "                    #store 2d cell coordinates(x,y) of predecessor as an integer 10*x+y\n",
    "                    T2[i,j,t]=n[0]*10+n[1]\n",
    "                "
   ]
  },
  {
   "cell_type": "code",
   "execution_count": 16,
   "metadata": {},
   "outputs": [],
   "source": [
    "#z stores most probable cells at all timesteps\n",
    "z=np.full((time_,2),-1)\n",
    "#find most probable final cell after tinal timestep\n",
    "z[time_-1,:]=np.unravel_index(T1[:,:,time_-1].argmax(), T1[:,:,time_-1].shape)\n"
   ]
  },
  {
   "cell_type": "code",
   "execution_count": 17,
   "metadata": {},
   "outputs": [],
   "source": [
    "#iterate backwards finding which state lead to current state using store values\n",
    "for i in range(time_-1,0,-1):\n",
    "    #reverse map stored integer predecessor to 2d cell coordinates\n",
    "    z[i-1,:]=[T2[z[i][0],z[i][1],i]/10,T2[z[i][0],z[i][1],i]%10]\n"
   ]
  },
  {
   "cell_type": "code",
   "execution_count": 18,
   "metadata": {},
   "outputs": [
    {
     "name": "stdout",
     "output_type": "stream",
     "text": [
      "Most probable path of robot [[5 3]\n",
      " [6 3]\n",
      " [7 3]\n",
      " [8 3]\n",
      " [8 2]\n",
      " [7 2]\n",
      " [7 1]\n",
      " [6 1]\n",
      " [5 1]\n",
      " [4 1]\n",
      " [3 1]]\n"
     ]
    }
   ],
   "source": [
    "#most probable path\n",
    "print(\"Most probable path of robot\",z)"
   ]
  },
  {
   "cell_type": "code",
   "execution_count": 19,
   "metadata": {},
   "outputs": [],
   "source": [
    "import numpy as np\n",
    "from hidden_markov import hmm\n",
    "\n",
    "# States\n",
    "states = ('Classroom', 'Starbucks')\n",
    "\n",
    "# list of possible observations\n",
    "possible_observation = ('Blackboard','Coffee' )\n",
    "\n",
    "# The observations that we observe and feed to the model\n",
    "obs1 = ('Coffee', 'Blackboard','Blackboard','Coffee')\n",
    "obs2 = ('Blackboard', 'Coffee','Coffee')\n",
    "\n",
    "\n",
    "# Number of observation sequece 1 and 2\n",
    "quantities_observations = [1,2]\n",
    "\n",
    "observation_tuple = []\n",
    "observation_tuple.extend( [obs1,obs2] )\n",
    "\n",
    "# Input parameters as Numpy matrices\n",
    "start_probability = np.matrix( '0.2 0.8 ')\n",
    "transition_probability = np.matrix('0.9 0.1 ;  0.3 0.7 ')\n",
    "emission_probability = np.matrix( '0.2 0.8 ; 0.6 0.4 ' )"
   ]
  },
  {
   "cell_type": "code",
   "execution_count": 20,
   "metadata": {},
   "outputs": [],
   "source": [
    "#Hidden markov model \n",
    "test = hmm(states,possible_observation,start_probability,transition_probability,emission_probability)\n"
   ]
  },
  {
   "cell_type": "code",
   "execution_count": 21,
   "metadata": {},
   "outputs": [
    {
     "data": {
      "text/plain": [
       "['Starbucks', 'Starbucks', 'Starbucks', 'Starbucks']"
      ]
     },
     "execution_count": 21,
     "metadata": {},
     "output_type": "execute_result"
    }
   ],
   "source": [
    "#Output of the Viterbi algorithm\n",
    "test.viterbi(obs1)"
   ]
  },
  {
   "cell_type": "code",
   "execution_count": null,
   "metadata": {},
   "outputs": [],
   "source": []
  }
 ],
 "metadata": {
  "kernelspec": {
   "display_name": "Python 3",
   "language": "python",
   "name": "python3"
  },
  "language_info": {
   "codemirror_mode": {
    "name": "ipython",
    "version": 3
   },
   "file_extension": ".py",
   "mimetype": "text/x-python",
   "name": "python",
   "nbconvert_exporter": "python",
   "pygments_lexer": "ipython3",
   "version": "3.7.3"
  }
 },
 "nbformat": 4,
 "nbformat_minor": 2
}
