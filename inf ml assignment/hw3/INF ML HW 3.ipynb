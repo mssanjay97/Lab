{
 "cells": [
  {
   "cell_type": "code",
   "execution_count": 1,
   "metadata": {},
   "outputs": [],
   "source": [
    "#Done by SANJAY MALLASAMUDRAM SANTHANAM ; USC ID:3124715393\n",
    "#part 1: PCA\n",
    "import pandas as pd\n",
    "import numpy as np\n",
    "import math\n",
    "from operator import truediv,add \n",
    "import copy"
   ]
  },
  {
   "cell_type": "code",
   "execution_count": 2,
   "metadata": {},
   "outputs": [],
   "source": [
    "#read data \n",
    "data=np.loadtxt('C:/Users/Lenovo/Desktop/data.txt',delimiter=\"\\t\")"
   ]
  },
  {
   "cell_type": "code",
   "execution_count": 3,
   "metadata": {},
   "outputs": [
    {
     "data": {
      "text/plain": [
       "(6000, 3)"
      ]
     },
     "execution_count": 3,
     "metadata": {},
     "output_type": "execute_result"
    }
   ],
   "source": [
    "#Check data\n",
    "np.shape(data)"
   ]
  },
  {
   "cell_type": "code",
   "execution_count": 4,
   "metadata": {},
   "outputs": [],
   "source": [
    "#calculate mean\n",
    "u=np.mean(data,axis=0)"
   ]
  },
  {
   "cell_type": "code",
   "execution_count": 5,
   "metadata": {},
   "outputs": [],
   "source": [
    "#Value of reduced dimension as given in question\n",
    "k=2"
   ]
  },
  {
   "cell_type": "code",
   "execution_count": 6,
   "metadata": {},
   "outputs": [],
   "source": [
    "#Center data around mean\n",
    "data=data-u"
   ]
  },
  {
   "cell_type": "code",
   "execution_count": 7,
   "metadata": {},
   "outputs": [],
   "source": [
    "#Compute covariance matrix\n",
    "n=np.shape(data)[1]\n",
    "N=np.shape(data)[0]\n",
    "E=np.zeros(shape=(n,n))\n",
    "for i in range(0,N):\n",
    "    E+=np.reshape(data[i],(3,1))*data[i]\n",
    "E/=N"
   ]
  },
  {
   "cell_type": "code",
   "execution_count": 8,
   "metadata": {},
   "outputs": [],
   "source": [
    "#Find eigenvalue and eigenvector\n",
    "V,U=np.linalg.eig(E)"
   ]
  },
  {
   "cell_type": "code",
   "execution_count": 9,
   "metadata": {},
   "outputs": [
    {
     "data": {
      "text/plain": [
       "array([[ 0.86667137, -0.4962773 , -0.0508879 ],\n",
       "       [-0.23276482, -0.4924792 ,  0.83862076],\n",
       "       [ 0.44124968,  0.71496368,  0.54233352]])"
      ]
     },
     "execution_count": 9,
     "metadata": {},
     "output_type": "execute_result"
    }
   ],
   "source": [
    "#eigenvector\n",
    "U"
   ]
  },
  {
   "cell_type": "code",
   "execution_count": 10,
   "metadata": {},
   "outputs": [],
   "source": [
    "#take only necesary eigenvectors(first two as k=2) and leave rest of the eigenvectors.\n",
    "U=U[:,0:k]"
   ]
  },
  {
   "cell_type": "code",
   "execution_count": 11,
   "metadata": {},
   "outputs": [
    {
     "name": "stdout",
     "output_type": "stream",
     "text": [
      "Direction:\n"
     ]
    },
    {
     "data": {
      "text/plain": [
       "array([[ 0.86667137, -0.4962773 ],\n",
       "       [-0.23276482, -0.4924792 ],\n",
       "       [ 0.44124968,  0.71496368]])"
      ]
     },
     "execution_count": 11,
     "metadata": {},
     "output_type": "execute_result"
    }
   ],
   "source": [
    "print(\"Direction:\")\n",
    "U"
   ]
  },
  {
   "cell_type": "code",
   "execution_count": 12,
   "metadata": {},
   "outputs": [
    {
     "name": "stdout",
     "output_type": "stream",
     "text": [
      "Corresponding eigenvalues:\n"
     ]
    },
    {
     "data": {
      "text/plain": [
       "array([101.60286375,  19.89589866])"
      ]
     },
     "execution_count": 12,
     "metadata": {},
     "output_type": "execute_result"
    }
   ],
   "source": [
    "#Correesponding eigenvalues\n",
    "print(\"Corresponding eigenvalues:\")\n",
    "V[0:k]"
   ]
  },
  {
   "cell_type": "code",
   "execution_count": 13,
   "metadata": {},
   "outputs": [],
   "source": [
    "z=U.T.dot(np.transpose(data))"
   ]
  },
  {
   "cell_type": "code",
   "execution_count": 14,
   "metadata": {},
   "outputs": [
    {
     "name": "stdout",
     "output_type": "stream",
     "text": [
      "New data points:\n"
     ]
    },
    {
     "data": {
      "text/plain": [
       "array([[ 10.87667009,   7.37396173],\n",
       "       [-12.68609992,  -4.24879151],\n",
       "       [  0.43255106,   0.26700852],\n",
       "       ...,\n",
       "       [ -2.92254009,   2.41914881],\n",
       "       [ 11.18317124,   4.20349275],\n",
       "       [ 14.2299014 ,   5.64409544]])"
      ]
     },
     "execution_count": 14,
     "metadata": {},
     "output_type": "execute_result"
    }
   ],
   "source": [
    "print(\"New data points:\")\n",
    "z.T"
   ]
  },
  {
   "cell_type": "code",
   "execution_count": 15,
   "metadata": {},
   "outputs": [],
   "source": [
    "#library function \n",
    "from sklearn.decomposition import IncrementalPCA"
   ]
  },
  {
   "cell_type": "code",
   "execution_count": 16,
   "metadata": {},
   "outputs": [],
   "source": [
    "data=np.loadtxt('C:/Users/Lenovo/Desktop/data.txt',delimiter=\"\\t\")"
   ]
  },
  {
   "cell_type": "code",
   "execution_count": 17,
   "metadata": {},
   "outputs": [],
   "source": [
    "#use library function to find transformed data\n",
    "pca = IncrementalPCA(n_components=k)\n",
    "#fit data\n",
    "pca.fit(data)\n",
    "#map data from 3D to 2D\n",
    "Z=pca.transform(data)"
   ]
  },
  {
   "cell_type": "code",
   "execution_count": 18,
   "metadata": {},
   "outputs": [
    {
     "name": "stdout",
     "output_type": "stream",
     "text": [
      "New data points from library function:\n"
     ]
    },
    {
     "data": {
      "text/plain": [
       "array([[ 10.87702383,   7.36575086],\n",
       "       [-12.68565055,  -4.2656881 ],\n",
       "       [  0.43247706,   0.26959768],\n",
       "       ...,\n",
       "       [ -2.92251403,   2.41954659],\n",
       "       [ 11.18319958,   4.20450064],\n",
       "       [ 14.23036055,   5.63145537]])"
      ]
     },
     "execution_count": 18,
     "metadata": {},
     "output_type": "execute_result"
    }
   ],
   "source": [
    "print(\"New data points from library function:\")\n",
    "Z"
   ]
  },
  {
   "cell_type": "code",
   "execution_count": 19,
   "metadata": {},
   "outputs": [
    {
     "data": {
      "text/plain": [
       "'\\nIt can be seen that the coordinates of the new points matches exactly with the one calculatedd by the Library function.\\nThe runtime of the program can be decreased if we use matrix multiplication instead of using for loop for summation while \\ncalculating Covariance matrix\\n'"
      ]
     },
     "execution_count": 19,
     "metadata": {},
     "output_type": "execute_result"
    }
   ],
   "source": [
    "\"\"\"\n",
    "It can be seen that the coordinates of the new points matches exactly with the one calculatedd by the Library function.\n",
    "The runtime of the program can be decreased if we use matrix multiplication instead of using for loop for summation while \n",
    "calculating Covariance matrix\n",
    "\"\"\""
   ]
  },
  {
   "cell_type": "code",
   "execution_count": 31,
   "metadata": {},
   "outputs": [],
   "source": [
    "#Done by SANJAY MALLASAMUDRAM SANTHANAM ; USC ID:3124715393\n",
    "#part 2: Fastmap\n",
    "import pandas as pd\n",
    "import numpy as np\n",
    "import math\n",
    "from operator import truediv,add \n",
    "import copy"
   ]
  },
  {
   "cell_type": "code",
   "execution_count": 32,
   "metadata": {},
   "outputs": [],
   "source": [
    "#read data \n",
    "data=np.loadtxt('C:/Users/Lenovo/Desktop/fastmap_data.txt',delimiter=\"\\t\")"
   ]
  },
  {
   "cell_type": "code",
   "execution_count": 33,
   "metadata": {},
   "outputs": [],
   "source": [
    "#Read list of words from txt file\n",
    "wordlist=[]\n",
    "with open('C:/Users/Lenovo/Desktop/fastmap_wordlist.txt') as single:\n",
    "    single=single.readlines()\n",
    "    wordlist=(single)"
   ]
  },
  {
   "cell_type": "code",
   "execution_count": 34,
   "metadata": {},
   "outputs": [],
   "source": [
    "#clean data by removing newline character at the end and separate all words\n",
    "for i in range(0,len(wordlist)):\n",
    "    wordlist[i]=wordlist[i].split('\\n')[0]"
   ]
  },
  {
   "cell_type": "code",
   "execution_count": 35,
   "metadata": {},
   "outputs": [
    {
     "data": {
      "text/plain": [
       "['acting',\n",
       " 'activist',\n",
       " 'compute',\n",
       " 'coward',\n",
       " 'forward',\n",
       " 'interaction',\n",
       " 'activity',\n",
       " 'odor',\n",
       " 'order',\n",
       " 'international']"
      ]
     },
     "execution_count": 35,
     "metadata": {},
     "output_type": "execute_result"
    }
   ],
   "source": [
    "wordlist"
   ]
  },
  {
   "cell_type": "code",
   "execution_count": 36,
   "metadata": {},
   "outputs": [],
   "source": [
    "#n= no of words=10 \n",
    "n=len(wordlist)\n",
    "#D represents the distance matrix which contains all initial distances between all pairs. It is symmetric\n",
    "D=np.zeros((n,n))\n",
    "\n",
    "#for each pair, update in 2 cells of the matrix. \n",
    "for t in data:\n",
    "    D[int(t[0])-1][int(t[1])-1]=t[2]\n",
    "    D[int(t[1])-1][int(t[0])-1]=t[2]"
   ]
  },
  {
   "cell_type": "code",
   "execution_count": 37,
   "metadata": {},
   "outputs": [
    {
     "data": {
      "text/plain": [
       "array([[ 0.,  4.,  7.,  6.,  7.,  7.,  4.,  6.,  6., 10.],\n",
       "       [ 4.,  0.,  7.,  7.,  8.,  9.,  2.,  8.,  8., 11.],\n",
       "       [ 7.,  7.,  0.,  5.,  6., 10.,  6.,  6.,  6., 12.],\n",
       "       [ 6.,  7.,  5.,  0.,  2., 10.,  7.,  4.,  5., 12.],\n",
       "       [ 7.,  8.,  6.,  2.,  0., 10.,  8.,  5.,  4., 11.],\n",
       "       [ 7.,  9., 10., 10., 10.,  0.,  9., 10.,  9.,  4.],\n",
       "       [ 4.,  2.,  6.,  7.,  8.,  9.,  0.,  8.,  8., 11.],\n",
       "       [ 6.,  8.,  6.,  4.,  5., 10.,  8.,  0.,  2., 12.],\n",
       "       [ 6.,  8.,  6.,  5.,  4.,  9.,  8.,  2.,  0., 11.],\n",
       "       [10., 11., 12., 12., 11.,  4., 11., 12., 11.,  0.]])"
      ]
     },
     "execution_count": 37,
     "metadata": {},
     "output_type": "execute_result"
    }
   ],
   "source": [
    "D"
   ]
  },
  {
   "cell_type": "code",
   "execution_count": 38,
   "metadata": {},
   "outputs": [],
   "source": [
    "#k-dimension of transformed data = 2 as given in question\n",
    "k=2\n",
    "#p is array of all 'k' dimensional transformed data points .Initially it is assigned zero\n",
    "p=np.zeros((n,k))\n"
   ]
  },
  {
   "cell_type": "code",
   "execution_count": 39,
   "metadata": {},
   "outputs": [
    {
     "name": "stdout",
     "output_type": "stream",
     "text": [
      "\n",
      "Farthest pair: 9 2 \n",
      " Max distance between farthest pair: 12.0 \n",
      "\n",
      "\n",
      "Farthest pair: 6 4 \n",
      " Max distance between farthest pair: 8.0 \n",
      "\n"
     ]
    }
   ],
   "source": [
    "#iterate once for each dimension of the transformed data\n",
    "for it in range(0,k):\n",
    "    #farthest pair calculation.Initially Oa is set to 0 and Ob is chosen randomnly.Distance values are compared using\n",
    "    #square values because 1)it saves time spent in calculating square root value, which is actual distance 2) Comparing \n",
    "    #square distances instead of actual distance values  wont change the result.\n",
    "    Oa=0\n",
    "    #set Ob randomnly\n",
    "    Ob=np.random.randint(low=0 ,high=n-1)\n",
    "    #distance btwn 2 points is initial distance minus distance between all lower coordinates. \n",
    "    max_dis=D[Oa][Ob]**2\n",
    "    #p is a n*k matrix which contains coordinates of all points and all dimensions. For iteration it, we take into considerations\n",
    "    # iterations 0 to iterations it-1 only. \n",
    "    for j in range(0,it):\n",
    "        max_dis-=(p[Oa][j]-p[Ob][j])**2\n",
    "    #Use heuristic method to find max distance between pairs.The iteration process is run 35 times so that the chances of \n",
    "    #choosing a sub optimal solution is reduced. \n",
    "    #In each iteration, Ob and Oa is updated once. i.e. given some  (Oa,Ob), first a new value of Oa say Oa' is found.\n",
    "    #Now given this (Oa',Ob), a new value for Ob is found say Ob'. So both pair values are updated in 1 iteration itself.\n",
    "    #On running 35 iterations, 70 times the coordinates are tested.\n",
    "    #Loop through all n points to find max dist btwn a fixed coordinate and the new coordinate.\n",
    "    for _ in range(0,35):\n",
    "        #Fix Ob and find farthest point pt from Ob and assign it as Oa  \n",
    "        for pt in range(0,n):\n",
    "            #Initial Old distance\n",
    "            t=D[Ob][pt]**2\n",
    "            #New Distance\n",
    "            for j in range(0,it):\n",
    "                t-=(p[Ob][j]-p[pt][j])**2\n",
    "            if(t>max_dis):\n",
    "                Oa=pt\n",
    "                max_dis=t\n",
    "            #print(\"Ob:\",Ob,\" pt:\",pt,\" Dist:\",t)    \n",
    "        #Fix Oa and find farthest point pt from Oa and assign it as Ob        \n",
    "        for pt in range(0,n):\n",
    "            t=D[Oa][pt]**2\n",
    "            for j in range(0,it):\n",
    "                t-=(p[Oa][j]-p[pt][j])**2\n",
    "            if(t>max_dis):\n",
    "                Ob=pt\n",
    "                max_dis=t\n",
    "            #print(\"Oa:\",Oa,\" pt:\",pt,\" Dist:\",t)   \n",
    "    #after determining the farthest pait, now iterate through every point and find their coordinates.            \n",
    "    print(\"\\nFarthest pair:\",Oa,Ob,\"\\n\",\"Max distance between farthest pair:\",math.pow(max_dis,0.5),\"\\n\")\n",
    "    for i in range(0,n):\n",
    "        #Distance calculations\n",
    "        x1=D[Oa][i]**2\n",
    "        x2=D[Oa][Ob]**2\n",
    "        x3=D[i][Ob]**2\n",
    "        for j in range(0,it):\n",
    "            x1-=(p[Oa][j]-p[i][j])**2\n",
    "            x2-=(p[Oa][j]-p[Ob][j])**2\n",
    "            x3-=(p[Ob][j]-p[i][j])**2\n",
    "            \n",
    "        p[i][it]=(x1+x2-x3)/(2*np.sqrt(x2))\n",
    "        \n",
    "        "
   ]
  },
  {
   "cell_type": "code",
   "execution_count": 40,
   "metadata": {},
   "outputs": [
    {
     "name": "stdout",
     "output_type": "stream",
     "text": [
      "Points in  2  dimensions are:\n"
     ]
    },
    {
     "data": {
      "text/plain": [
       "array([[ 8.125     ,  1.9375    ],\n",
       "       [ 9.        ,  0.25      ],\n",
       "       [12.        ,  4.        ],\n",
       "       [10.95833333,  6.8125    ],\n",
       "       [ 9.54166667,  8.        ],\n",
       "       [ 2.5       ,  2.8125    ],\n",
       "       [ 9.54166667,  0.        ],\n",
       "       [10.5       ,  6.4375    ],\n",
       "       [ 9.54166667,  7.        ],\n",
       "       [ 0.        ,  4.        ]])"
      ]
     },
     "execution_count": 40,
     "metadata": {},
     "output_type": "execute_result"
    }
   ],
   "source": [
    "#Note: Distance can be calculated from either one of Oa or Ob. Both gives different but symmetric results. \n",
    "print(\"Points in \",k,\" dimensions are:\")\n",
    "p"
   ]
  },
  {
   "cell_type": "code",
   "execution_count": 41,
   "metadata": {},
   "outputs": [
    {
     "data": {
      "image/png": "[encoded data removed]",
      "text/plain": [
       "<Figure size 432x288 with 1 Axes>"
      ]
     },
     "metadata": {
      "needs_background": "light"
     },
     "output_type": "display_data"
    },
    {
     "name": "stdout",
     "output_type": "stream",
     "text": [
      "None\n"
     ]
    }
   ],
   "source": [
    "#plot graph.\n",
    "import matplotlib.pyplot as plt\n",
    "figure,axis = plt.subplots()\n",
    "#title\n",
    "plt.title(\"Word embeddings\")\n",
    "#label of x axis\n",
    "plt.xlabel(\"X coordinate\")\n",
    "#label of y axis\n",
    "plt.ylabel(\"Y coordinate\")\n",
    "#plot each point\n",
    "for pt in range(0,n):\n",
    "    axis.plot(p[pt][0],p[pt][1],'b*')\n",
    "    #show words along with point\n",
    "    axis.annotate(wordlist[pt],(p[pt][0],p[pt][1]))\n",
    "print(plt.show())"
   ]
  },
  {
   "cell_type": "code",
   "execution_count": null,
   "metadata": {},
   "outputs": [],
   "source": []
  },
  {
   "cell_type": "code",
   "execution_count": null,
   "metadata": {},
   "outputs": [],
   "source": []
  }
 ],
 "metadata": {
  "kernelspec": {
   "display_name": "Python 3",
   "language": "python",
   "name": "python3"
  },
  "language_info": {
   "codemirror_mode": {
    "name": "ipython",
    "version": 3
   },
   "file_extension": ".py",
   "mimetype": "text/x-python",
   "name": "python",
   "nbconvert_exporter": "python",
   "pygments_lexer": "ipython3",
   "version": "3.7.3"
  }
 },
 "nbformat": 4,
 "nbformat_minor": 2
}
